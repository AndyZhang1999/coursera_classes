{
 "cells": [
  {
   "cell_type": "markdown",
   "metadata": {},
   "source": [
    "# Practice notebook for confidence intervals using NHANES data\n",
    "\n",
    "This notebook will give you the opportunity to practice working with confidence intervals using the NHANES data.\n",
    "\n",
    "You can enter your code into the cells that say \"enter your code here\", and you can type responses to the questions into the cells that say \"Type Markdown and Latex\".\n",
    "\n",
    "Note that most of the code that you will need to write below is very similar to code that appears in the case study notebook.  You will need to edit code from that notebook in small ways to adapt it to the prompts below.\n",
    "\n",
    "To get started, we will use the same module imports and read the data in the same way as we did in the case study:"
   ]
  },
  {
   "cell_type": "code",
   "execution_count": 36,
   "metadata": {},
   "outputs": [],
   "source": [
    "%matplotlib inline\n",
    "import matplotlib.pyplot as plt\n",
    "import pandas as pd\n",
    "import numpy as np\n",
    "import seaborn as sns\n",
    "import statsmodels.api as sm\n",
    "\n",
    "da = pd.read_csv(\"nhanes_2015_2016.csv\")"
   ]
  },
  {
   "cell_type": "markdown",
   "metadata": {},
   "source": [
    "## Question 1\n",
    "\n",
    "Restrict the sample to women between 35 and 50, then use the marital status variable [DMDMARTL](https://wwwn.cdc.gov/Nchs/Nhanes/2015-2016/DEMO_I.htm#DMDMARTL) to partition this sample into two groups - women who are currently married, and women who are not currently married.  Within each of these groups, calculate the proportion of women who have completed college.  Calculate 95% confidence intervals for each of these proportions."
   ]
  },
  {
   "cell_type": "code",
   "execution_count": 37,
   "metadata": {},
   "outputs": [
    {
     "data": {
      "text/plain": [
       "Index(['SEQN', 'ALQ101', 'ALQ110', 'ALQ130', 'SMQ020', 'RIAGENDR', 'RIDAGEYR',\n",
       "       'RIDRETH1', 'DMDCITZN', 'DMDEDUC2', 'DMDMARTL', 'DMDHHSIZ', 'WTINT2YR',\n",
       "       'SDMVPSU', 'SDMVSTRA', 'INDFMPIR', 'BPXSY1', 'BPXDI1', 'BPXSY2',\n",
       "       'BPXDI2', 'BMXWT', 'BMXHT', 'BMXBMI', 'BMXLEG', 'BMXARML', 'BMXARMC',\n",
       "       'BMXWAIST', 'HIQ210'],\n",
       "      dtype='object')"
      ]
     },
     "execution_count": 37,
     "metadata": {},
     "output_type": "execute_result"
    }
   ],
   "source": [
    "da.columns"
   ]
  },
  {
   "cell_type": "code",
   "execution_count": 38,
   "metadata": {
    "scrolled": true
   },
   "outputs": [
    {
     "data": {
      "text/plain": [
       "1.0     2780\n",
       "5.0     1004\n",
       "3.0      579\n",
       "6.0      527\n",
       "2.0      396\n",
       "4.0      186\n",
       "77.0       2\n",
       "Name: DMDMARTL, dtype: int64"
      ]
     },
     "execution_count": 38,
     "metadata": {},
     "output_type": "execute_result"
    }
   ],
   "source": [
    "da[\"DMDMARTL\"].value_counts()"
   ]
  },
  {
   "cell_type": "code",
   "execution_count": 39,
   "metadata": {},
   "outputs": [
    {
     "data": {
      "text/plain": [
       "4.0    1621\n",
       "5.0    1366\n",
       "3.0    1186\n",
       "1.0     655\n",
       "2.0     643\n",
       "9.0       3\n",
       "Name: DMDEDUC2, dtype: int64"
      ]
     },
     "execution_count": 39,
     "metadata": {},
     "output_type": "execute_result"
    }
   ],
   "source": [
    "da[\"DMDEDUC2\"].value_counts()"
   ]
  },
  {
   "cell_type": "code",
   "execution_count": 40,
   "metadata": {},
   "outputs": [
    {
     "data": {
      "text/html": [
       "<div>\n",
       "<style scoped>\n",
       "    .dataframe tbody tr th:only-of-type {\n",
       "        vertical-align: middle;\n",
       "    }\n",
       "\n",
       "    .dataframe tbody tr th {\n",
       "        vertical-align: top;\n",
       "    }\n",
       "\n",
       "    .dataframe thead th {\n",
       "        text-align: right;\n",
       "    }\n",
       "</style>\n",
       "<table border=\"1\" class=\"dataframe\">\n",
       "  <thead>\n",
       "    <tr style=\"text-align: right;\">\n",
       "      <th></th>\n",
       "      <th>RIAGENDRx</th>\n",
       "      <th>RIDAGEYR</th>\n",
       "      <th>DMDMARTLx</th>\n",
       "      <th>DMDEDUC2x</th>\n",
       "    </tr>\n",
       "  </thead>\n",
       "  <tbody>\n",
       "    <tr>\n",
       "      <th>4</th>\n",
       "      <td>Female</td>\n",
       "      <td>42</td>\n",
       "      <td>Not_Married</td>\n",
       "      <td>Not_College</td>\n",
       "    </tr>\n",
       "    <tr>\n",
       "      <th>34</th>\n",
       "      <td>Female</td>\n",
       "      <td>37</td>\n",
       "      <td>Married</td>\n",
       "      <td>Not_College</td>\n",
       "    </tr>\n",
       "    <tr>\n",
       "      <th>50</th>\n",
       "      <td>Female</td>\n",
       "      <td>39</td>\n",
       "      <td>Married</td>\n",
       "      <td>Not_College</td>\n",
       "    </tr>\n",
       "    <tr>\n",
       "      <th>52</th>\n",
       "      <td>Female</td>\n",
       "      <td>50</td>\n",
       "      <td>Not_Married</td>\n",
       "      <td>Not_College</td>\n",
       "    </tr>\n",
       "    <tr>\n",
       "      <th>55</th>\n",
       "      <td>Female</td>\n",
       "      <td>45</td>\n",
       "      <td>Married</td>\n",
       "      <td>Not_College</td>\n",
       "    </tr>\n",
       "  </tbody>\n",
       "</table>\n",
       "</div>"
      ],
      "text/plain": [
       "   RIAGENDRx  RIDAGEYR    DMDMARTLx    DMDEDUC2x\n",
       "4     Female        42  Not_Married  Not_College\n",
       "34    Female        37      Married  Not_College\n",
       "50    Female        39      Married  Not_College\n",
       "52    Female        50  Not_Married  Not_College\n",
       "55    Female        45      Married  Not_College"
      ]
     },
     "execution_count": 40,
     "metadata": {},
     "output_type": "execute_result"
    }
   ],
   "source": [
    "da[\"RIAGENDRx\"] = da[\"RIAGENDR\"].replace({1:\"Male\",2:\"Female\"})\n",
    "da[\"DMDMARTLx\"] = da[\"DMDMARTL\"].replace({1:\"Married\", 2: \"Not_Married\", 3: \"Not_Married\", \n",
    "                                           4: \"Not_Married\", 5: \"Not_Married\", \n",
    "                                           6: \"Not_Married\", 77: np.nan})\n",
    "da[\"DMDEDUC2x\"] = da[\"DMDEDUC2\"].replace({1: \"Not_College\",2: \"Not_College\",3: \"Not_College\",\n",
    "                                         4: \"Not_College\", 5: \"College\", 9: np.nan})\n",
    "cond1 = da.RIAGENDRx == \"Female\"\n",
    "cond2 = da.RIDAGEYR.between(35,50)\n",
    "dx = da.loc[cond1&cond2, [\"RIAGENDRx\",\"RIDAGEYR\",\"DMDMARTLx\",\"DMDEDUC2x\"]]\n",
    "dx.head()"
   ]
  },
  {
   "cell_type": "code",
   "execution_count": 41,
   "metadata": {},
   "outputs": [
    {
     "data": {
      "text/html": [
       "<div>\n",
       "<style scoped>\n",
       "    .dataframe tbody tr th:only-of-type {\n",
       "        vertical-align: middle;\n",
       "    }\n",
       "\n",
       "    .dataframe tbody tr th {\n",
       "        vertical-align: top;\n",
       "    }\n",
       "\n",
       "    .dataframe thead th {\n",
       "        text-align: right;\n",
       "    }\n",
       "</style>\n",
       "<table border=\"1\" class=\"dataframe\">\n",
       "  <thead>\n",
       "    <tr style=\"text-align: right;\">\n",
       "      <th></th>\n",
       "      <th>Prop</th>\n",
       "      <th>Size</th>\n",
       "    </tr>\n",
       "    <tr>\n",
       "      <th>DMDMARTLx</th>\n",
       "      <th></th>\n",
       "      <th></th>\n",
       "    </tr>\n",
       "  </thead>\n",
       "  <tbody>\n",
       "    <tr>\n",
       "      <th>Married</th>\n",
       "      <td>0.360802</td>\n",
       "      <td>449</td>\n",
       "    </tr>\n",
       "    <tr>\n",
       "      <th>Not_Married</th>\n",
       "      <td>0.213018</td>\n",
       "      <td>338</td>\n",
       "    </tr>\n",
       "  </tbody>\n",
       "</table>\n",
       "</div>"
      ],
      "text/plain": [
       "                 Prop  Size\n",
       "DMDMARTLx                  \n",
       "Married      0.360802   449\n",
       "Not_Married  0.213018   338"
      ]
     },
     "execution_count": 41,
     "metadata": {},
     "output_type": "execute_result"
    }
   ],
   "source": [
    "dx1 = dx.groupby(\"DMDMARTLx\").agg({\"DMDEDUC2x\": [lambda x: np.mean(x== \"College\"), np.size]})\n",
    "dx1.columns = [\"Prop\", \"Size\"]\n",
    "dx1"
   ]
  },
  {
   "cell_type": "code",
   "execution_count": 42,
   "metadata": {},
   "outputs": [
    {
     "data": {
      "text/plain": [
       "(0.3163811208674688, 0.4052224426069187)"
      ]
     },
     "execution_count": 42,
     "metadata": {},
     "output_type": "execute_result"
    }
   ],
   "source": [
    "p = dx1.Prop.Married\n",
    "n = dx1.Size.Married\n",
    "lcb_Married = p - 1.96* np.sqrt((1-p)*p/n)\n",
    "ucb_Married = p + 1.96* np.sqrt((1-p)*p/n)\n",
    "(lcb_Married, ucb_Married)"
   ]
  },
  {
   "cell_type": "code",
   "execution_count": 43,
   "metadata": {},
   "outputs": [
    {
     "data": {
      "text/plain": [
       "(0.1693673655848136, 0.25666813737376626)"
      ]
     },
     "execution_count": 43,
     "metadata": {},
     "output_type": "execute_result"
    }
   ],
   "source": [
    "p = dx1.Prop.Not_Married\n",
    "n = dx1.Size.Not_Married\n",
    "lcb_Not_Married = p - 1.96* np.sqrt((1-p)*p/n)\n",
    "ucb_Not_Married = p + 1.96* np.sqrt((1-p)*p/n)\n",
    "(lcb_Not_Married, ucb_Not_Married)"
   ]
  },
  {
   "cell_type": "code",
   "execution_count": 44,
   "metadata": {
    "scrolled": true
   },
   "outputs": [
    {
     "data": {
      "text/html": [
       "<div>\n",
       "<style scoped>\n",
       "    .dataframe tbody tr th:only-of-type {\n",
       "        vertical-align: middle;\n",
       "    }\n",
       "\n",
       "    .dataframe tbody tr th {\n",
       "        vertical-align: top;\n",
       "    }\n",
       "\n",
       "    .dataframe thead th {\n",
       "        text-align: right;\n",
       "    }\n",
       "</style>\n",
       "<table border=\"1\" class=\"dataframe\">\n",
       "  <thead>\n",
       "    <tr style=\"text-align: right;\">\n",
       "      <th>DMDEDUC2x</th>\n",
       "      <th>College</th>\n",
       "      <th>Not_College</th>\n",
       "      <th>Total</th>\n",
       "    </tr>\n",
       "    <tr>\n",
       "      <th>DMDMARTLx</th>\n",
       "      <th></th>\n",
       "      <th></th>\n",
       "      <th></th>\n",
       "    </tr>\n",
       "  </thead>\n",
       "  <tbody>\n",
       "    <tr>\n",
       "      <th>Married</th>\n",
       "      <td>162</td>\n",
       "      <td>287</td>\n",
       "      <td>449</td>\n",
       "    </tr>\n",
       "    <tr>\n",
       "      <th>Not_Married</th>\n",
       "      <td>72</td>\n",
       "      <td>266</td>\n",
       "      <td>338</td>\n",
       "    </tr>\n",
       "  </tbody>\n",
       "</table>\n",
       "</div>"
      ],
      "text/plain": [
       "DMDEDUC2x    College  Not_College  Total\n",
       "DMDMARTLx                               \n",
       "Married          162          287    449\n",
       "Not_Married       72          266    338"
      ]
     },
     "execution_count": 44,
     "metadata": {},
     "output_type": "execute_result"
    }
   ],
   "source": [
    "dx2 = pd.crosstab(dx.DMDMARTLx, dx.DMDEDUC2x)\n",
    "dx2[\"Total\"] = dx2.College + dx2.Not_College\n",
    "dx2"
   ]
  },
  {
   "cell_type": "code",
   "execution_count": 45,
   "metadata": {
    "scrolled": false
   },
   "outputs": [
    {
     "data": {
      "text/plain": [
       "(0.31638193710753626, 0.4052216263668512)"
      ]
     },
     "execution_count": 45,
     "metadata": {},
     "output_type": "execute_result"
    }
   ],
   "source": [
    "sm.stats.proportion_confint(dx2.College.Married, dx2.Total.Married)"
   ]
  },
  {
   "cell_type": "code",
   "execution_count": 46,
   "metadata": {},
   "outputs": [
    {
     "data": {
      "text/plain": [
       "(0.16936816767089768, 0.2566673352876822)"
      ]
     },
     "execution_count": 46,
     "metadata": {},
     "output_type": "execute_result"
    }
   ],
   "source": [
    "sm.stats.proportion_confint(dx2.College.Not_Married, dx2.Total.Not_Married)"
   ]
  },
  {
   "cell_type": "code",
   "execution_count": 47,
   "metadata": {},
   "outputs": [
    {
     "data": {
      "text/plain": [
       "array([0.08883969, 0.08729917])"
      ]
     },
     "execution_count": 47,
     "metadata": {},
     "output_type": "execute_result"
    }
   ],
   "source": [
    "compare = np.asarray(sm.stats.proportion_confint(dx2.College, dx2.Total))\n",
    "diff = compare[1]-compare[0]\n",
    "diff"
   ]
  },
  {
   "cell_type": "markdown",
   "metadata": {},
   "source": [
    "__Q1a.__ Identify which of the two confidence intervals is wider, and explain why this is the case. "
   ]
  },
  {
   "cell_type": "markdown",
   "metadata": {},
   "source": [
    "Married is wider than non-Married"
   ]
  },
  {
   "cell_type": "markdown",
   "metadata": {},
   "source": [
    "\n",
    "\n",
    "__Q1b.__ Write 1-2 sentences summarizing these findings for an audience that does not know what a confidence interval is (the goal here is to report the substance of what you learned about how marital status and educational attainment are related, not to teach a person what a confidence interval is)."
   ]
  },
  {
   "cell_type": "markdown",
   "metadata": {},
   "source": [
    "NA"
   ]
  },
  {
   "cell_type": "markdown",
   "metadata": {},
   "source": [
    "## Question 2\n",
    "\n",
    "Construct a 95% confidence interval for the proportion of smokers who are female. Construct a 95% confidence interval for the proportion of smokers who are male. Construct a 95% confidence interval for the **difference** between those two gender proportions."
   ]
  },
  {
   "cell_type": "code",
   "execution_count": 52,
   "metadata": {},
   "outputs": [
    {
     "data": {
      "text/html": [
       "<div>\n",
       "<style scoped>\n",
       "    .dataframe tbody tr th:only-of-type {\n",
       "        vertical-align: middle;\n",
       "    }\n",
       "\n",
       "    .dataframe tbody tr th {\n",
       "        vertical-align: top;\n",
       "    }\n",
       "\n",
       "    .dataframe thead th {\n",
       "        text-align: right;\n",
       "    }\n",
       "</style>\n",
       "<table border=\"1\" class=\"dataframe\">\n",
       "  <thead>\n",
       "    <tr style=\"text-align: right;\">\n",
       "      <th></th>\n",
       "      <th>prop</th>\n",
       "      <th>n</th>\n",
       "    </tr>\n",
       "    <tr>\n",
       "      <th>RIAGENDRx</th>\n",
       "      <th></th>\n",
       "      <th></th>\n",
       "    </tr>\n",
       "  </thead>\n",
       "  <tbody>\n",
       "    <tr>\n",
       "      <th>Female</th>\n",
       "      <td>0.304845</td>\n",
       "      <td>2972</td>\n",
       "    </tr>\n",
       "    <tr>\n",
       "      <th>Male</th>\n",
       "      <td>0.513258</td>\n",
       "      <td>2753</td>\n",
       "    </tr>\n",
       "  </tbody>\n",
       "</table>\n",
       "</div>"
      ],
      "text/plain": [
       "               prop     n\n",
       "RIAGENDRx                \n",
       "Female     0.304845  2972\n",
       "Male       0.513258  2753"
      ]
     },
     "execution_count": 52,
     "metadata": {},
     "output_type": "execute_result"
    }
   ],
   "source": [
    "da[\"SMQ020x\"] = da[\"SMQ020\"].replace({1:\"Yes\",2:\"No\", 7:np.nan, 9:np.nan})\n",
    "da1 = da[['RIAGENDRx','SMQ020x']].dropna()\n",
    "ds = da1.groupby(\"RIAGENDRx\").agg({\"SMQ020x\": [lambda x: np.mean(x == \"Yes\"), np.size]})\n",
    "ds.columns = [\"prop\",\"n\"]\n",
    "ds"
   ]
  },
  {
   "cell_type": "code",
   "execution_count": 59,
   "metadata": {},
   "outputs": [
    {
     "name": "stdout",
     "output_type": "stream",
     "text": [
      "0.30484522207267833 2972 0.288294683866098 0.32139576027925865\n",
      "0.5132582637123139 2753 0.4952882281104308 0.5312282993141969\n"
     ]
    }
   ],
   "source": [
    "pf= ds.prop.Female\n",
    "nf= ds.n.Female\n",
    "lcbf = pf - 1.96 * np.sqrt(pf*(1-pf)/n)\n",
    "ucbf = pf + 1.96 * np.sqrt(pf*(1-pf)/n)\n",
    "print(pf, nf, lcbf, ucbf)\n",
    "\n",
    "pm= ds.prop.Male\n",
    "nm= ds.n.Male\n",
    "lcbm = pm - 1.96 * np.sqrt((1-pm)*pm/n)\n",
    "ucbm = pm + 1.96 * np.sqrt((1-pm)*pm/n)\n",
    "print(pm, nm, lcbm, ucbm)"
   ]
  },
  {
   "cell_type": "code",
   "execution_count": 61,
   "metadata": {},
   "outputs": [
    {
     "name": "stdout",
     "output_type": "stream",
     "text": [
      "           Non_Smoker  Smoker  Total\n",
      "RIAGENDRx                           \n",
      "Female           2066     906   2972\n",
      "Male             1340    1413   2753\n",
      "(0.2882949879861214, 0.32139545615923526)\n",
      "(0.49458749263718593, 0.5319290347874418)\n"
     ]
    }
   ],
   "source": [
    "ds1 = pd.crosstab(da1.RIAGENDRx, da1.SMQ020x)\n",
    "ds1.columns = [\"Non_Smoker\",\"Smoker\"]\n",
    "ds1['Total'] =  ds1.Non_Smoker + ds1.Smoker\n",
    "print(ds1)\n",
    "ds1f = sm.stats.proportion_confint(906, 2972)\n",
    "ds1m = sm.stats.proportion_confint(1413, 2753)\n",
    "print(ds1f)\n",
    "print(ds1m)"
   ]
  },
  {
   "cell_type": "markdown",
   "metadata": {},
   "source": [
    "__Q2a.__ Why might it be relevant to report the separate gender proportions **and** the difference between the gender proportions?"
   ]
  },
  {
   "cell_type": "markdown",
   "metadata": {},
   "source": [
    "NA"
   ]
  },
  {
   "cell_type": "markdown",
   "metadata": {},
   "source": [
    "__Q2b.__ How does the **width** of the confidence interval for the difference between the gender proportions compare to the widths of the confidence intervals for the separate gender proportions?"
   ]
  },
  {
   "cell_type": "code",
   "execution_count": 74,
   "metadata": {},
   "outputs": [
    {
     "name": "stdout",
     "output_type": "stream",
     "text": [
      "[[0.28829499 0.32139546]\n",
      " [0.49458749 0.53192903]\n",
      " [0.3923493  0.41778171]]\n"
     ]
    },
    {
     "data": {
      "text/plain": [
       "array([0.03310047, 0.03734154, 0.02543241])"
      ]
     },
     "execution_count": 74,
     "metadata": {},
     "output_type": "execute_result"
    }
   ],
   "source": [
    "ds1all =sm.stats.proportion_confint(906+1413, 2972+2753)\n",
    "ds1compare = [ds1f, ds1m, ds1all]\n",
    "ds1compare = np.asarray(ds1compare)\n",
    "print(ds1compare)\n",
    "ds1compare[:,1]-ds1compare[:,0]"
   ]
  },
  {
   "cell_type": "markdown",
   "metadata": {},
   "source": [
    "## Question 3\n",
    "\n",
    "Construct a 95% interval for height ([BMXHT](https://wwwn.cdc.gov/Nchs/Nhanes/2015-2016/BMX_I.htm#BMXHT)) in centimeters.  Then convert height from centimeters to inches by dividing by 2.54, and construct a 95% confidence interval for height in inches.  Finally, convert the endpoints (the lower and upper confidence limits) of the confidence interval from inches to back to centimeters   "
   ]
  },
  {
   "cell_type": "code",
   "execution_count": 79,
   "metadata": {},
   "outputs": [
    {
     "data": {
      "text/plain": [
       "(array([65.30730365]), array([65.51382587]))"
      ]
     },
     "execution_count": 79,
     "metadata": {},
     "output_type": "execute_result"
    }
   ],
   "source": [
    "da[\"BMXHTx\"] = da.BMXHT/2.54\n",
    "dh = da[['BMXHTx']].dropna()\n",
    "sm.stats.DescrStatsW(dh).zconfint_mean()"
   ]
  },
  {
   "cell_type": "code",
   "execution_count": 87,
   "metadata": {
    "scrolled": true
   },
   "outputs": [
    {
     "data": {
      "text/html": [
       "<div>\n",
       "<style scoped>\n",
       "    .dataframe tbody tr th:only-of-type {\n",
       "        vertical-align: middle;\n",
       "    }\n",
       "\n",
       "    .dataframe tbody tr th {\n",
       "        vertical-align: top;\n",
       "    }\n",
       "\n",
       "    .dataframe thead th {\n",
       "        text-align: right;\n",
       "    }\n",
       "</style>\n",
       "<table border=\"1\" class=\"dataframe\">\n",
       "  <thead>\n",
       "    <tr style=\"text-align: right;\">\n",
       "      <th></th>\n",
       "      <th>BMXHTx</th>\n",
       "    </tr>\n",
       "  </thead>\n",
       "  <tbody>\n",
       "    <tr>\n",
       "      <th>count</th>\n",
       "      <td>5673.000000</td>\n",
       "    </tr>\n",
       "    <tr>\n",
       "      <th>mean</th>\n",
       "      <td>65.410565</td>\n",
       "    </tr>\n",
       "    <tr>\n",
       "      <th>std</th>\n",
       "      <td>3.968214</td>\n",
       "    </tr>\n",
       "    <tr>\n",
       "      <th>min</th>\n",
       "      <td>51.062992</td>\n",
       "    </tr>\n",
       "    <tr>\n",
       "      <th>25%</th>\n",
       "      <td>62.480315</td>\n",
       "    </tr>\n",
       "    <tr>\n",
       "      <th>50%</th>\n",
       "      <td>65.354331</td>\n",
       "    </tr>\n",
       "    <tr>\n",
       "      <th>75%</th>\n",
       "      <td>68.307087</td>\n",
       "    </tr>\n",
       "    <tr>\n",
       "      <th>max</th>\n",
       "      <td>79.803150</td>\n",
       "    </tr>\n",
       "  </tbody>\n",
       "</table>\n",
       "</div>"
      ],
      "text/plain": [
       "            BMXHTx\n",
       "count  5673.000000\n",
       "mean     65.410565\n",
       "std       3.968214\n",
       "min      51.062992\n",
       "25%      62.480315\n",
       "50%      65.354331\n",
       "75%      68.307087\n",
       "max      79.803150"
      ]
     },
     "execution_count": 87,
     "metadata": {},
     "output_type": "execute_result"
    }
   ],
   "source": [
    "dh.describe()"
   ]
  },
  {
   "cell_type": "code",
   "execution_count": 89,
   "metadata": {
    "scrolled": true
   },
   "outputs": [
    {
     "data": {
      "text/plain": [
       "(BMXHTx    65.307302\n",
       " dtype: float64, BMXHTx    65.513828\n",
       " dtype: float64)"
      ]
     },
     "execution_count": 89,
     "metadata": {},
     "output_type": "execute_result"
    }
   ],
   "source": [
    "mh = dh.mean()\n",
    "nh = dh.count()\n",
    "stdh = dh.std()\n",
    "lcbh = mh - 1.96 * stdh/np.sqrt(nh)\n",
    "ucbh = mh + 1.96 * stdh/np.sqrt(nh)\n",
    "(lcbh, ucbh)"
   ]
  },
  {
   "cell_type": "code",
   "execution_count": 90,
   "metadata": {},
   "outputs": [
    {
     "data": {
      "text/plain": [
       "(array([165.88055126]), array([166.4051177]))"
      ]
     },
     "execution_count": 90,
     "metadata": {},
     "output_type": "execute_result"
    }
   ],
   "source": [
    "dh1 = da[['BMXHT']].dropna()\n",
    "sm.stats.DescrStatsW(dh1).zconfint_mean()"
   ]
  },
  {
   "cell_type": "code",
   "execution_count": 93,
   "metadata": {},
   "outputs": [
    {
     "data": {
      "text/plain": [
       "array([[65.30730365],\n",
       "       [65.51382587]])"
      ]
     },
     "execution_count": 93,
     "metadata": {},
     "output_type": "execute_result"
    }
   ],
   "source": [
    "np.asarray(sm.stats.DescrStatsW(dh1).zconfint_mean())/2.54"
   ]
  },
  {
   "cell_type": "markdown",
   "metadata": {},
   "source": [
    "__Q3a.__ Describe how the confidence interval constructed in centimeters relates to the confidence interval constructed in inches."
   ]
  },
  {
   "cell_type": "markdown",
   "metadata": {},
   "source": [
    "same"
   ]
  },
  {
   "cell_type": "markdown",
   "metadata": {},
   "source": [
    "## Question 4\n",
    "\n",
    "Partition the sample based on 10-year age bands, i.e. the resulting groups will consist of people with ages from 18-28, 29-38, etc. Construct 95% confidence intervals for the difference between the mean BMI for females and for males within each age band."
   ]
  },
  {
   "cell_type": "code",
   "execution_count": 178,
   "metadata": {},
   "outputs": [
    {
     "data": {
      "text/plain": [
       "(68, 80]    964\n",
       "(28, 38]    961\n",
       "(18, 28]    956\n",
       "(58, 68]    936\n",
       "(38, 48]    912\n",
       "(48, 58]    873\n",
       "Name: agegrp, dtype: int64"
      ]
     },
     "execution_count": 178,
     "metadata": {},
     "output_type": "execute_result"
    }
   ],
   "source": [
    "da[\"agegrp\"] = pd.cut(da.RIDAGEYR, [18,28,38,48,58,68,80])\n",
    "da[\"agegrp\"].value_counts()"
   ]
  },
  {
   "cell_type": "code",
   "execution_count": 179,
   "metadata": {},
   "outputs": [
    {
     "data": {
      "text/html": [
       "<div>\n",
       "<style scoped>\n",
       "    .dataframe tbody tr th:only-of-type {\n",
       "        vertical-align: middle;\n",
       "    }\n",
       "\n",
       "    .dataframe tbody tr th {\n",
       "        vertical-align: top;\n",
       "    }\n",
       "\n",
       "    .dataframe thead th {\n",
       "        text-align: right;\n",
       "    }\n",
       "</style>\n",
       "<table border=\"1\" class=\"dataframe\">\n",
       "  <thead>\n",
       "    <tr style=\"text-align: right;\">\n",
       "      <th></th>\n",
       "      <th>mean_f</th>\n",
       "      <th>mean_m</th>\n",
       "      <th>size_f</th>\n",
       "      <th>size_m</th>\n",
       "      <th>std_f</th>\n",
       "      <th>std_m</th>\n",
       "    </tr>\n",
       "    <tr>\n",
       "      <th>agegrp</th>\n",
       "      <th></th>\n",
       "      <th></th>\n",
       "      <th></th>\n",
       "      <th></th>\n",
       "      <th></th>\n",
       "      <th></th>\n",
       "    </tr>\n",
       "  </thead>\n",
       "  <tbody>\n",
       "    <tr>\n",
       "      <th>(18, 28]</th>\n",
       "      <td>28.019433</td>\n",
       "      <td>27.058186</td>\n",
       "      <td>494.0</td>\n",
       "      <td>452.0</td>\n",
       "      <td>8.048854</td>\n",
       "      <td>6.679515</td>\n",
       "    </tr>\n",
       "    <tr>\n",
       "      <th>(28, 38]</th>\n",
       "      <td>29.943443</td>\n",
       "      <td>29.697180</td>\n",
       "      <td>488.0</td>\n",
       "      <td>461.0</td>\n",
       "      <td>7.959097</td>\n",
       "      <td>6.726690</td>\n",
       "    </tr>\n",
       "    <tr>\n",
       "      <th>(38, 48]</th>\n",
       "      <td>31.003733</td>\n",
       "      <td>29.514646</td>\n",
       "      <td>509.0</td>\n",
       "      <td>396.0</td>\n",
       "      <td>8.044642</td>\n",
       "      <td>6.104950</td>\n",
       "    </tr>\n",
       "    <tr>\n",
       "      <th>(48, 58]</th>\n",
       "      <td>30.787361</td>\n",
       "      <td>29.385132</td>\n",
       "      <td>451.0</td>\n",
       "      <td>417.0</td>\n",
       "      <td>7.647590</td>\n",
       "      <td>6.151534</td>\n",
       "    </tr>\n",
       "    <tr>\n",
       "      <th>(58, 68]</th>\n",
       "      <td>31.054664</td>\n",
       "      <td>29.232462</td>\n",
       "      <td>461.0</td>\n",
       "      <td>459.0</td>\n",
       "      <td>7.779502</td>\n",
       "      <td>5.959024</td>\n",
       "    </tr>\n",
       "    <tr>\n",
       "      <th>(68, 80]</th>\n",
       "      <td>29.412685</td>\n",
       "      <td>28.255319</td>\n",
       "      <td>473.0</td>\n",
       "      <td>470.0</td>\n",
       "      <td>6.403343</td>\n",
       "      <td>5.139608</td>\n",
       "    </tr>\n",
       "  </tbody>\n",
       "</table>\n",
       "</div>"
      ],
      "text/plain": [
       "             mean_f     mean_m  size_f  size_m     std_f     std_m\n",
       "agegrp                                                            \n",
       "(18, 28]  28.019433  27.058186   494.0   452.0  8.048854  6.679515\n",
       "(28, 38]  29.943443  29.697180   488.0   461.0  7.959097  6.726690\n",
       "(38, 48]  31.003733  29.514646   509.0   396.0  8.044642  6.104950\n",
       "(48, 58]  30.787361  29.385132   451.0   417.0  7.647590  6.151534\n",
       "(58, 68]  31.054664  29.232462   461.0   459.0  7.779502  5.959024\n",
       "(68, 80]  29.412685  28.255319   473.0   470.0  6.403343  5.139608"
      ]
     },
     "execution_count": 179,
     "metadata": {},
     "output_type": "execute_result"
    }
   ],
   "source": [
    "db = da[[\"RIAGENDRx\",\"agegrp\",\"BMXBMI\"]].dropna()\n",
    "db1 = db.groupby(['agegrp','RIAGENDRx']).agg({\"BMXBMI\": [np.mean, np.size,np.std]}).unstack()\n",
    "db1.columns = [\"mean_f\", \"mean_m\",\"size_f\",\"size_m\", \"std_f\", \"std_m\"]\n",
    "db1"
   ]
  },
  {
   "cell_type": "code",
   "execution_count": 180,
   "metadata": {},
   "outputs": [
    {
     "data": {
      "text/html": [
       "<div>\n",
       "<style scoped>\n",
       "    .dataframe tbody tr th:only-of-type {\n",
       "        vertical-align: middle;\n",
       "    }\n",
       "\n",
       "    .dataframe tbody tr th {\n",
       "        vertical-align: top;\n",
       "    }\n",
       "\n",
       "    .dataframe thead th {\n",
       "        text-align: right;\n",
       "    }\n",
       "</style>\n",
       "<table border=\"1\" class=\"dataframe\">\n",
       "  <thead>\n",
       "    <tr style=\"text-align: right;\">\n",
       "      <th></th>\n",
       "      <th>mean_f</th>\n",
       "      <th>mean_m</th>\n",
       "      <th>size_f</th>\n",
       "      <th>size_m</th>\n",
       "      <th>std_f</th>\n",
       "      <th>std_m</th>\n",
       "      <th>sem_f</th>\n",
       "      <th>sem_m</th>\n",
       "    </tr>\n",
       "    <tr>\n",
       "      <th>agegrp</th>\n",
       "      <th></th>\n",
       "      <th></th>\n",
       "      <th></th>\n",
       "      <th></th>\n",
       "      <th></th>\n",
       "      <th></th>\n",
       "      <th></th>\n",
       "      <th></th>\n",
       "    </tr>\n",
       "  </thead>\n",
       "  <tbody>\n",
       "    <tr>\n",
       "      <th>(18, 28]</th>\n",
       "      <td>28.019433</td>\n",
       "      <td>27.058186</td>\n",
       "      <td>494.0</td>\n",
       "      <td>452.0</td>\n",
       "      <td>8.048854</td>\n",
       "      <td>6.679515</td>\n",
       "      <td>0.362135</td>\n",
       "      <td>0.314178</td>\n",
       "    </tr>\n",
       "    <tr>\n",
       "      <th>(28, 38]</th>\n",
       "      <td>29.943443</td>\n",
       "      <td>29.697180</td>\n",
       "      <td>488.0</td>\n",
       "      <td>461.0</td>\n",
       "      <td>7.959097</td>\n",
       "      <td>6.726690</td>\n",
       "      <td>0.360291</td>\n",
       "      <td>0.313293</td>\n",
       "    </tr>\n",
       "    <tr>\n",
       "      <th>(38, 48]</th>\n",
       "      <td>31.003733</td>\n",
       "      <td>29.514646</td>\n",
       "      <td>509.0</td>\n",
       "      <td>396.0</td>\n",
       "      <td>8.044642</td>\n",
       "      <td>6.104950</td>\n",
       "      <td>0.356572</td>\n",
       "      <td>0.306785</td>\n",
       "    </tr>\n",
       "    <tr>\n",
       "      <th>(48, 58]</th>\n",
       "      <td>30.787361</td>\n",
       "      <td>29.385132</td>\n",
       "      <td>451.0</td>\n",
       "      <td>417.0</td>\n",
       "      <td>7.647590</td>\n",
       "      <td>6.151534</td>\n",
       "      <td>0.360111</td>\n",
       "      <td>0.301242</td>\n",
       "    </tr>\n",
       "    <tr>\n",
       "      <th>(58, 68]</th>\n",
       "      <td>31.054664</td>\n",
       "      <td>29.232462</td>\n",
       "      <td>461.0</td>\n",
       "      <td>459.0</td>\n",
       "      <td>7.779502</td>\n",
       "      <td>5.959024</td>\n",
       "      <td>0.362328</td>\n",
       "      <td>0.278143</td>\n",
       "    </tr>\n",
       "    <tr>\n",
       "      <th>(68, 80]</th>\n",
       "      <td>29.412685</td>\n",
       "      <td>28.255319</td>\n",
       "      <td>473.0</td>\n",
       "      <td>470.0</td>\n",
       "      <td>6.403343</td>\n",
       "      <td>5.139608</td>\n",
       "      <td>0.294426</td>\n",
       "      <td>0.237072</td>\n",
       "    </tr>\n",
       "  </tbody>\n",
       "</table>\n",
       "</div>"
      ],
      "text/plain": [
       "             mean_f     mean_m  size_f  size_m     std_f     std_m     sem_f  \\\n",
       "agegrp                                                                         \n",
       "(18, 28]  28.019433  27.058186   494.0   452.0  8.048854  6.679515  0.362135   \n",
       "(28, 38]  29.943443  29.697180   488.0   461.0  7.959097  6.726690  0.360291   \n",
       "(38, 48]  31.003733  29.514646   509.0   396.0  8.044642  6.104950  0.356572   \n",
       "(48, 58]  30.787361  29.385132   451.0   417.0  7.647590  6.151534  0.360111   \n",
       "(58, 68]  31.054664  29.232462   461.0   459.0  7.779502  5.959024  0.362328   \n",
       "(68, 80]  29.412685  28.255319   473.0   470.0  6.403343  5.139608  0.294426   \n",
       "\n",
       "             sem_m  \n",
       "agegrp              \n",
       "(18, 28]  0.314178  \n",
       "(28, 38]  0.313293  \n",
       "(38, 48]  0.306785  \n",
       "(48, 58]  0.301242  \n",
       "(58, 68]  0.278143  \n",
       "(68, 80]  0.237072  "
      ]
     },
     "execution_count": 180,
     "metadata": {},
     "output_type": "execute_result"
    }
   ],
   "source": [
    "db1[\"sem_f\"] = db1.std_f/np.sqrt(db1.size_f)\n",
    "db1[\"sem_m\"] = db1.std_m/np.sqrt(db1.size_m)\n",
    "db1"
   ]
  },
  {
   "cell_type": "code",
   "execution_count": 181,
   "metadata": {},
   "outputs": [
    {
     "data": {
      "text/html": [
       "<div>\n",
       "<style scoped>\n",
       "    .dataframe tbody tr th:only-of-type {\n",
       "        vertical-align: middle;\n",
       "    }\n",
       "\n",
       "    .dataframe tbody tr th {\n",
       "        vertical-align: top;\n",
       "    }\n",
       "\n",
       "    .dataframe thead th {\n",
       "        text-align: right;\n",
       "    }\n",
       "</style>\n",
       "<table border=\"1\" class=\"dataframe\">\n",
       "  <thead>\n",
       "    <tr style=\"text-align: right;\">\n",
       "      <th></th>\n",
       "      <th>mean_f</th>\n",
       "      <th>mean_m</th>\n",
       "      <th>size_f</th>\n",
       "      <th>size_m</th>\n",
       "      <th>std_f</th>\n",
       "      <th>std_m</th>\n",
       "      <th>sem_f</th>\n",
       "      <th>sem_m</th>\n",
       "      <th>lcb_f</th>\n",
       "      <th>lcb_m</th>\n",
       "      <th>ucb_f</th>\n",
       "      <th>ucb_m</th>\n",
       "      <th>mean_diff</th>\n",
       "      <th>sem_diff</th>\n",
       "      <th>ci_range_f</th>\n",
       "      <th>ci_range_m</th>\n",
       "    </tr>\n",
       "    <tr>\n",
       "      <th>agegrp</th>\n",
       "      <th></th>\n",
       "      <th></th>\n",
       "      <th></th>\n",
       "      <th></th>\n",
       "      <th></th>\n",
       "      <th></th>\n",
       "      <th></th>\n",
       "      <th></th>\n",
       "      <th></th>\n",
       "      <th></th>\n",
       "      <th></th>\n",
       "      <th></th>\n",
       "      <th></th>\n",
       "      <th></th>\n",
       "      <th></th>\n",
       "      <th></th>\n",
       "    </tr>\n",
       "  </thead>\n",
       "  <tbody>\n",
       "    <tr>\n",
       "      <th>(18, 28]</th>\n",
       "      <td>28.019433</td>\n",
       "      <td>27.058186</td>\n",
       "      <td>494.0</td>\n",
       "      <td>452.0</td>\n",
       "      <td>8.048854</td>\n",
       "      <td>6.679515</td>\n",
       "      <td>0.362135</td>\n",
       "      <td>0.314178</td>\n",
       "      <td>27.309649</td>\n",
       "      <td>26.442397</td>\n",
       "      <td>28.729218</td>\n",
       "      <td>27.673975</td>\n",
       "      <td>0.961247</td>\n",
       "      <td>0.479426</td>\n",
       "      <td>1.419569</td>\n",
       "      <td>1.231578</td>\n",
       "    </tr>\n",
       "    <tr>\n",
       "      <th>(28, 38]</th>\n",
       "      <td>29.943443</td>\n",
       "      <td>29.697180</td>\n",
       "      <td>488.0</td>\n",
       "      <td>461.0</td>\n",
       "      <td>7.959097</td>\n",
       "      <td>6.726690</td>\n",
       "      <td>0.360291</td>\n",
       "      <td>0.313293</td>\n",
       "      <td>29.237271</td>\n",
       "      <td>29.083125</td>\n",
       "      <td>30.649614</td>\n",
       "      <td>30.311235</td>\n",
       "      <td>0.246263</td>\n",
       "      <td>0.477454</td>\n",
       "      <td>1.412342</td>\n",
       "      <td>1.228109</td>\n",
       "    </tr>\n",
       "    <tr>\n",
       "      <th>(38, 48]</th>\n",
       "      <td>31.003733</td>\n",
       "      <td>29.514646</td>\n",
       "      <td>509.0</td>\n",
       "      <td>396.0</td>\n",
       "      <td>8.044642</td>\n",
       "      <td>6.104950</td>\n",
       "      <td>0.356572</td>\n",
       "      <td>0.306785</td>\n",
       "      <td>30.304851</td>\n",
       "      <td>28.913347</td>\n",
       "      <td>31.702615</td>\n",
       "      <td>30.115946</td>\n",
       "      <td>1.489086</td>\n",
       "      <td>0.470384</td>\n",
       "      <td>1.397764</td>\n",
       "      <td>1.202598</td>\n",
       "    </tr>\n",
       "    <tr>\n",
       "      <th>(48, 58]</th>\n",
       "      <td>30.787361</td>\n",
       "      <td>29.385132</td>\n",
       "      <td>451.0</td>\n",
       "      <td>417.0</td>\n",
       "      <td>7.647590</td>\n",
       "      <td>6.151534</td>\n",
       "      <td>0.360111</td>\n",
       "      <td>0.301242</td>\n",
       "      <td>30.081544</td>\n",
       "      <td>28.794698</td>\n",
       "      <td>31.493179</td>\n",
       "      <td>29.975566</td>\n",
       "      <td>1.402230</td>\n",
       "      <td>0.469496</td>\n",
       "      <td>1.411635</td>\n",
       "      <td>1.180868</td>\n",
       "    </tr>\n",
       "    <tr>\n",
       "      <th>(58, 68]</th>\n",
       "      <td>31.054664</td>\n",
       "      <td>29.232462</td>\n",
       "      <td>461.0</td>\n",
       "      <td>459.0</td>\n",
       "      <td>7.779502</td>\n",
       "      <td>5.959024</td>\n",
       "      <td>0.362328</td>\n",
       "      <td>0.278143</td>\n",
       "      <td>30.344502</td>\n",
       "      <td>28.687301</td>\n",
       "      <td>31.764826</td>\n",
       "      <td>29.777623</td>\n",
       "      <td>1.822202</td>\n",
       "      <td>0.456777</td>\n",
       "      <td>1.420324</td>\n",
       "      <td>1.090322</td>\n",
       "    </tr>\n",
       "    <tr>\n",
       "      <th>(68, 80]</th>\n",
       "      <td>29.412685</td>\n",
       "      <td>28.255319</td>\n",
       "      <td>473.0</td>\n",
       "      <td>470.0</td>\n",
       "      <td>6.403343</td>\n",
       "      <td>5.139608</td>\n",
       "      <td>0.294426</td>\n",
       "      <td>0.237072</td>\n",
       "      <td>28.835610</td>\n",
       "      <td>27.790657</td>\n",
       "      <td>29.989760</td>\n",
       "      <td>28.719981</td>\n",
       "      <td>1.157366</td>\n",
       "      <td>0.378008</td>\n",
       "      <td>1.154150</td>\n",
       "      <td>0.929324</td>\n",
       "    </tr>\n",
       "  </tbody>\n",
       "</table>\n",
       "</div>"
      ],
      "text/plain": [
       "             mean_f     mean_m  size_f  size_m     std_f     std_m     sem_f  \\\n",
       "agegrp                                                                         \n",
       "(18, 28]  28.019433  27.058186   494.0   452.0  8.048854  6.679515  0.362135   \n",
       "(28, 38]  29.943443  29.697180   488.0   461.0  7.959097  6.726690  0.360291   \n",
       "(38, 48]  31.003733  29.514646   509.0   396.0  8.044642  6.104950  0.356572   \n",
       "(48, 58]  30.787361  29.385132   451.0   417.0  7.647590  6.151534  0.360111   \n",
       "(58, 68]  31.054664  29.232462   461.0   459.0  7.779502  5.959024  0.362328   \n",
       "(68, 80]  29.412685  28.255319   473.0   470.0  6.403343  5.139608  0.294426   \n",
       "\n",
       "             sem_m      lcb_f      lcb_m      ucb_f      ucb_m  mean_diff  \\\n",
       "agegrp                                                                      \n",
       "(18, 28]  0.314178  27.309649  26.442397  28.729218  27.673975   0.961247   \n",
       "(28, 38]  0.313293  29.237271  29.083125  30.649614  30.311235   0.246263   \n",
       "(38, 48]  0.306785  30.304851  28.913347  31.702615  30.115946   1.489086   \n",
       "(48, 58]  0.301242  30.081544  28.794698  31.493179  29.975566   1.402230   \n",
       "(58, 68]  0.278143  30.344502  28.687301  31.764826  29.777623   1.822202   \n",
       "(68, 80]  0.237072  28.835610  27.790657  29.989760  28.719981   1.157366   \n",
       "\n",
       "          sem_diff  ci_range_f  ci_range_m  \n",
       "agegrp                                      \n",
       "(18, 28]  0.479426    1.419569    1.231578  \n",
       "(28, 38]  0.477454    1.412342    1.228109  \n",
       "(38, 48]  0.470384    1.397764    1.202598  \n",
       "(48, 58]  0.469496    1.411635    1.180868  \n",
       "(58, 68]  0.456777    1.420324    1.090322  \n",
       "(68, 80]  0.378008    1.154150    0.929324  "
      ]
     },
     "execution_count": 181,
     "metadata": {},
     "output_type": "execute_result"
    }
   ],
   "source": [
    "db1['lcb_f'] = db1.mean_f - 1.96 * db1.sem_f\n",
    "db1['lcb_m'] = db1.mean_m - 1.96 * db1.sem_m\n",
    "db1['ucb_f'] = db1.mean_f + 1.96 * db1.sem_f\n",
    "db1['ucb_m'] = db1.mean_m + 1.96 * db1.sem_m\n",
    "db1['mean_diff'] = db1.mean_f - db1.mean_m\n",
    "db1['sem_diff'] = np.sqrt(db1.sem_f **2 + db1.sem_m **2)\n",
    "db1['ci_range_f'] = db1.ucb_f - db1.lcb_f\n",
    "db1['ci_range_m'] = db1.ucb_m - db1.lcb_m\n",
    "db1"
   ]
  },
  {
   "cell_type": "code",
   "execution_count": 182,
   "metadata": {},
   "outputs": [
    {
     "data": {
      "text/plain": [
       "<matplotlib.axes._subplots.AxesSubplot at 0x7f75ec743400>"
      ]
     },
     "execution_count": 182,
     "metadata": {},
     "output_type": "execute_result"
    },
    {
     "data": {
      "image/png": "[encoded data removed]",
      "text/plain": [
       "<Figure size 432x288 with 1 Axes>"
      ]
     },
     "metadata": {},
     "output_type": "display_data"
    }
   ],
   "source": [
    "sns.pointplot(db1.index, db1.mean_diff, color = 'black').set_ylabel(\"Female-Male BMI diff\")\n",
    "sns.pointplot(db1.index, db1.mean_diff - 1.96 * db1.sem_diff)\n",
    "sns.pointplot(db1.index, db1.mean_diff + 1.96 * db1.sem_diff)"
   ]
  },
  {
   "cell_type": "markdown",
   "metadata": {},
   "source": [
    "__Q4a.__ How do the widths of these confidence intervals differ?  Provide an explanation for any substantial diferences in the confidence interval widths that you see."
   ]
  },
  {
   "cell_type": "code",
   "execution_count": 183,
   "metadata": {},
   "outputs": [
    {
     "data": {
      "text/plain": [
       "<matplotlib.axes._subplots.AxesSubplot at 0x7f75ec6ccdd8>"
      ]
     },
     "execution_count": 183,
     "metadata": {},
     "output_type": "execute_result"
    },
    {
     "data": {
      "image/png": "[encoded data removed]",
      "text/plain": [
       "<Figure size 432x288 with 1 Axes>"
      ]
     },
     "metadata": {},
     "output_type": "display_data"
    }
   ],
   "source": [
    "db1[[\"ci_range_f\",\"ci_range_m\"]]\n",
    "sns.barplot(db1.index, db1.ci_range_f, color = \"red\")\n",
    "sns.barplot(db1.index,db1.ci_range_m, color = \"blue\")"
   ]
  },
  {
   "cell_type": "markdown",
   "metadata": {},
   "source": [
    "## Question 5\n",
    "\n",
    "Construct a 95% confidence interval for the first and second systolic blood pressure measures, and for the difference between the first and second systolic blood pressure measurements within a subject."
   ]
  },
  {
   "cell_type": "code",
   "execution_count": 197,
   "metadata": {},
   "outputs": [
    {
     "data": {
      "text/plain": [
       "Index(['SEQN', 'ALQ101', 'ALQ110', 'ALQ130', 'SMQ020', 'RIAGENDR', 'RIDAGEYR',\n",
       "       'RIDRETH1', 'DMDCITZN', 'DMDEDUC2', 'DMDMARTL', 'DMDHHSIZ', 'WTINT2YR',\n",
       "       'SDMVPSU', 'SDMVSTRA', 'INDFMPIR', 'BPXSY1', 'BPXDI1', 'BPXSY2',\n",
       "       'BPXDI2', 'BMXWT', 'BMXHT', 'BMXBMI', 'BMXLEG', 'BMXARML', 'BMXARMC',\n",
       "       'BMXWAIST', 'HIQ210', 'RIAGENDRx', 'DMDMARTLx', 'DMDEDUC2x', 'SMQ020x',\n",
       "       'BMXHTx', 'agegrp'],\n",
       "      dtype='object')"
      ]
     },
     "execution_count": 197,
     "metadata": {},
     "output_type": "execute_result"
    }
   ],
   "source": [
    "da.columns"
   ]
  },
  {
   "cell_type": "code",
   "execution_count": 212,
   "metadata": {
    "scrolled": true
   },
   "outputs": [
    {
     "data": {
      "text/html": [
       "<div>\n",
       "<style scoped>\n",
       "    .dataframe tbody tr th:only-of-type {\n",
       "        vertical-align: middle;\n",
       "    }\n",
       "\n",
       "    .dataframe tbody tr th {\n",
       "        vertical-align: top;\n",
       "    }\n",
       "\n",
       "    .dataframe thead th {\n",
       "        text-align: right;\n",
       "    }\n",
       "</style>\n",
       "<table border=\"1\" class=\"dataframe\">\n",
       "  <thead>\n",
       "    <tr style=\"text-align: right;\">\n",
       "      <th></th>\n",
       "      <th>Type</th>\n",
       "      <th>BPXSY1</th>\n",
       "      <th>BPXSY2</th>\n",
       "    </tr>\n",
       "  </thead>\n",
       "  <tbody>\n",
       "    <tr>\n",
       "      <th>0</th>\n",
       "      <td>mean</td>\n",
       "      <td>125.088471</td>\n",
       "      <td>124.413485</td>\n",
       "    </tr>\n",
       "    <tr>\n",
       "      <th>1</th>\n",
       "      <td>std</td>\n",
       "      <td>18.492079</td>\n",
       "      <td>18.189879</td>\n",
       "    </tr>\n",
       "  </tbody>\n",
       "</table>\n",
       "</div>"
      ],
      "text/plain": [
       "   Type      BPXSY1      BPXSY2\n",
       "0  mean  125.088471  124.413485\n",
       "1   std   18.492079   18.189879"
      ]
     },
     "execution_count": 212,
     "metadata": {},
     "output_type": "execute_result"
    }
   ],
   "source": [
    "dbp = da[['BPXSY1','BPXSY2']].dropna()\n",
    "dbp1 = {\"Type\": [\"mean\",\"std\"], \"BPXSY1\": [np.mean(dbp.BPXSY1), np.std(dbp.BPXSY1)], \n",
    "       \"BPXSY2\": [np.mean(dbp.BPXSY2), np.std(dbp.BPXSY2)]}\n",
    "dbp2 = pd.DataFrame(data=dbp1)\n",
    "dbp2"
   ]
  },
  {
   "cell_type": "code",
   "execution_count": 213,
   "metadata": {},
   "outputs": [
    {
     "data": {
      "text/html": [
       "<div>\n",
       "<style scoped>\n",
       "    .dataframe tbody tr th:only-of-type {\n",
       "        vertical-align: middle;\n",
       "    }\n",
       "\n",
       "    .dataframe tbody tr th {\n",
       "        vertical-align: top;\n",
       "    }\n",
       "\n",
       "    .dataframe thead th {\n",
       "        text-align: right;\n",
       "    }\n",
       "</style>\n",
       "<table border=\"1\" class=\"dataframe\">\n",
       "  <thead>\n",
       "    <tr style=\"text-align: right;\">\n",
       "      <th></th>\n",
       "      <th>BPXSY1</th>\n",
       "      <th>BPXSY2</th>\n",
       "    </tr>\n",
       "  </thead>\n",
       "  <tbody>\n",
       "    <tr>\n",
       "      <th>0</th>\n",
       "      <td>128.0</td>\n",
       "      <td>124.0</td>\n",
       "    </tr>\n",
       "    <tr>\n",
       "      <th>1</th>\n",
       "      <td>146.0</td>\n",
       "      <td>140.0</td>\n",
       "    </tr>\n",
       "    <tr>\n",
       "      <th>2</th>\n",
       "      <td>138.0</td>\n",
       "      <td>132.0</td>\n",
       "    </tr>\n",
       "    <tr>\n",
       "      <th>3</th>\n",
       "      <td>132.0</td>\n",
       "      <td>134.0</td>\n",
       "    </tr>\n",
       "    <tr>\n",
       "      <th>4</th>\n",
       "      <td>100.0</td>\n",
       "      <td>114.0</td>\n",
       "    </tr>\n",
       "  </tbody>\n",
       "</table>\n",
       "</div>"
      ],
      "text/plain": [
       "   BPXSY1  BPXSY2\n",
       "0   128.0   124.0\n",
       "1   146.0   140.0\n",
       "2   138.0   132.0\n",
       "3   132.0   134.0\n",
       "4   100.0   114.0"
      ]
     },
     "execution_count": 213,
     "metadata": {},
     "output_type": "execute_result"
    }
   ],
   "source": [
    "dbp.head()"
   ]
  },
  {
   "cell_type": "code",
   "execution_count": 216,
   "metadata": {},
   "outputs": [
    {
     "name": "stdout",
     "output_type": "stream",
     "text": [
      "(124.59378718804363, 125.5831545143218)\n",
      "(123.92688534371334, 124.90008429681563)\n"
     ]
    }
   ],
   "source": [
    "conf_bp1 = sm.stats.DescrStatsW(dbp.BPXSY1).zconfint_mean()\n",
    "conf_bp2 = sm.stats.DescrStatsW(dbp.BPXSY2).zconfint_mean()\n",
    "print(conf_bp1)\n",
    "print(conf_bp2)"
   ]
  },
  {
   "cell_type": "markdown",
   "metadata": {},
   "source": [
    "__Q5a.__ Based on these confidence intervals, would you say that a difference of zero between the population mean values of the first and second systolic blood pressure measures is consistent with the data?"
   ]
  },
  {
   "cell_type": "code",
   "execution_count": null,
   "metadata": {},
   "outputs": [],
   "source": []
  },
  {
   "cell_type": "markdown",
   "metadata": {},
   "source": []
  },
  {
   "cell_type": "markdown",
   "metadata": {},
   "source": [
    "__Q5b.__ Discuss how the width of the confidence interval for the within-subject difference compares to the widths of the confidence intervals for the first and second measures."
   ]
  },
  {
   "cell_type": "markdown",
   "metadata": {},
   "source": []
  },
  {
   "cell_type": "markdown",
   "metadata": {},
   "source": [
    "## Question 6\n",
    "\n",
    "Construct a 95% confidence interval for the mean difference between the average age of a smoker, and the average age of a non-smoker."
   ]
  },
  {
   "cell_type": "code",
   "execution_count": 189,
   "metadata": {},
   "outputs": [
    {
     "data": {
      "text/html": [
       "<div>\n",
       "<style scoped>\n",
       "    .dataframe tbody tr th:only-of-type {\n",
       "        vertical-align: middle;\n",
       "    }\n",
       "\n",
       "    .dataframe tbody tr th {\n",
       "        vertical-align: top;\n",
       "    }\n",
       "\n",
       "    .dataframe thead tr th {\n",
       "        text-align: left;\n",
       "    }\n",
       "\n",
       "    .dataframe thead tr:last-of-type th {\n",
       "        text-align: right;\n",
       "    }\n",
       "</style>\n",
       "<table border=\"1\" class=\"dataframe\">\n",
       "  <thead>\n",
       "    <tr>\n",
       "      <th></th>\n",
       "      <th>mean_age</th>\n",
       "      <th>size</th>\n",
       "    </tr>\n",
       "    <tr>\n",
       "      <th>SMQ020x</th>\n",
       "      <th></th>\n",
       "      <th></th>\n",
       "    </tr>\n",
       "  </thead>\n",
       "  <tbody>\n",
       "    <tr>\n",
       "      <th>No</th>\n",
       "      <td>46.307012</td>\n",
       "      <td>3280</td>\n",
       "    </tr>\n",
       "    <tr>\n",
       "      <th>Yes</th>\n",
       "      <td>52.199827</td>\n",
       "      <td>2312</td>\n",
       "    </tr>\n",
       "  </tbody>\n",
       "</table>\n",
       "</div>"
      ],
      "text/plain": [
       "          mean_age  size\n",
       "SMQ020x                 \n",
       "No       46.307012  3280\n",
       "Yes      52.199827  2312"
      ]
     },
     "execution_count": 189,
     "metadata": {},
     "output_type": "execute_result"
    }
   ],
   "source": [
    "dsm = da[[\"RIDAGEYR\", \"SMQ020x\",\"agegrp\"]].dropna()\n",
    "dsm1= dsm.groupby(\"SMQ020x\").agg({\"RIDAGEYR\":[np.mean, np.size]})\n",
    "dsm1.columns = [[\"mean_age\",\"size\"]]\n",
    "dsm1"
   ]
  },
  {
   "cell_type": "markdown",
   "metadata": {},
   "source": [
    "Avg age of smoker = 52"
   ]
  },
  {
   "cell_type": "code",
   "execution_count": 185,
   "metadata": {},
   "outputs": [
    {
     "data": {
      "text/plain": [
       "(51.491129434590896, 52.908524544647854)"
      ]
     },
     "execution_count": 185,
     "metadata": {},
     "output_type": "execute_result"
    }
   ],
   "source": [
    "sm.stats.DescrStatsW(dsm[dsm.SMQ020x == \"Yes\"].RIDAGEYR).zconfint_mean()"
   ]
  },
  {
   "cell_type": "markdown",
   "metadata": {},
   "source": [
    "__Q6a.__ Use graphical and numerical techniques to compare the variation in the ages of smokers to the variation in the ages of non-smokers.  "
   ]
  },
  {
   "cell_type": "code",
   "execution_count": 186,
   "metadata": {},
   "outputs": [
    {
     "data": {
      "text/html": [
       "<div>\n",
       "<style scoped>\n",
       "    .dataframe tbody tr th:only-of-type {\n",
       "        vertical-align: middle;\n",
       "    }\n",
       "\n",
       "    .dataframe tbody tr th {\n",
       "        vertical-align: top;\n",
       "    }\n",
       "\n",
       "    .dataframe thead th {\n",
       "        text-align: right;\n",
       "    }\n",
       "</style>\n",
       "<table border=\"1\" class=\"dataframe\">\n",
       "  <thead>\n",
       "    <tr style=\"text-align: right;\">\n",
       "      <th></th>\n",
       "      <th>mean_nonsmoker</th>\n",
       "      <th>mean_smoker</th>\n",
       "      <th>var_nonsmoker</th>\n",
       "      <th>var_smoker</th>\n",
       "    </tr>\n",
       "    <tr>\n",
       "      <th>agegrp</th>\n",
       "      <th></th>\n",
       "      <th></th>\n",
       "      <th></th>\n",
       "      <th></th>\n",
       "    </tr>\n",
       "  </thead>\n",
       "  <tbody>\n",
       "    <tr>\n",
       "      <th>(18, 28]</th>\n",
       "      <td>23.443491</td>\n",
       "      <td>23.863281</td>\n",
       "      <td>8.980685</td>\n",
       "      <td>7.585156</td>\n",
       "    </tr>\n",
       "    <tr>\n",
       "      <th>(28, 38]</th>\n",
       "      <td>33.316695</td>\n",
       "      <td>33.576720</td>\n",
       "      <td>8.040910</td>\n",
       "      <td>8.313727</td>\n",
       "    </tr>\n",
       "    <tr>\n",
       "      <th>(38, 48]</th>\n",
       "      <td>43.595960</td>\n",
       "      <td>43.650943</td>\n",
       "      <td>7.944402</td>\n",
       "      <td>8.347807</td>\n",
       "    </tr>\n",
       "    <tr>\n",
       "      <th>(48, 58]</th>\n",
       "      <td>53.125786</td>\n",
       "      <td>53.739899</td>\n",
       "      <td>7.820279</td>\n",
       "      <td>7.306860</td>\n",
       "    </tr>\n",
       "    <tr>\n",
       "      <th>(58, 68]</th>\n",
       "      <td>63.282851</td>\n",
       "      <td>63.154639</td>\n",
       "      <td>7.564906</td>\n",
       "      <td>8.560748</td>\n",
       "    </tr>\n",
       "    <tr>\n",
       "      <th>(68, 80]</th>\n",
       "      <td>76.025000</td>\n",
       "      <td>75.350731</td>\n",
       "      <td>15.757203</td>\n",
       "      <td>16.872547</td>\n",
       "    </tr>\n",
       "  </tbody>\n",
       "</table>\n",
       "</div>"
      ],
      "text/plain": [
       "          mean_nonsmoker  mean_smoker  var_nonsmoker  var_smoker\n",
       "agegrp                                                          \n",
       "(18, 28]       23.443491    23.863281       8.980685    7.585156\n",
       "(28, 38]       33.316695    33.576720       8.040910    8.313727\n",
       "(38, 48]       43.595960    43.650943       7.944402    8.347807\n",
       "(48, 58]       53.125786    53.739899       7.820279    7.306860\n",
       "(58, 68]       63.282851    63.154639       7.564906    8.560748\n",
       "(68, 80]       76.025000    75.350731      15.757203   16.872547"
      ]
     },
     "execution_count": 186,
     "metadata": {},
     "output_type": "execute_result"
    }
   ],
   "source": [
    "dsm2= dsm.groupby([\"agegrp\",\"SMQ020x\"]).agg({\"RIDAGEYR\":[np.mean, np.var]}).unstack()\n",
    "dsm2.columns = [\"mean_nonsmoker\", \"mean_smoker\", \"var_nonsmoker\", \"var_smoker\"]\n",
    "dsm2"
   ]
  },
  {
   "cell_type": "code",
   "execution_count": 187,
   "metadata": {},
   "outputs": [
    {
     "data": {
      "text/plain": [
       "<matplotlib.axes._subplots.AxesSubplot at 0x7f75ec660a90>"
      ]
     },
     "execution_count": 187,
     "metadata": {},
     "output_type": "execute_result"
    },
    {
     "data": {
      "image/png": "[encoded data removed]",
      "text/plain": [
       "<Figure size 432x288 with 1 Axes>"
      ]
     },
     "metadata": {},
     "output_type": "display_data"
    }
   ],
   "source": [
    "sns.pointplot(dsm2.index, dsm2.var_nonsmoker, color = 'black')\n",
    "sns.pointplot(dsm2.index, dsm2.var_smoker, color = 'red')"
   ]
  },
  {
   "cell_type": "markdown",
   "metadata": {},
   "source": [
    "__Q6b.__ Does it appear that uncertainty about the mean age of smokers, or uncertainty about the mean age of non-smokers contributed more to the uncertainty for the mean difference that we are focusing on here?"
   ]
  },
  {
   "cell_type": "code",
   "execution_count": 196,
   "metadata": {},
   "outputs": [
    {
     "name": "stdout",
     "output_type": "stream",
     "text": [
      "          mean_age  size\n",
      "SMQ020x                 \n",
      "No       46.307012  3280\n",
      "Yes      52.199827  2312\n"
     ]
    }
   ],
   "source": [
    "print(dsm1)"
   ]
  },
  {
   "cell_type": "markdown",
   "metadata": {},
   "source": [
    "NA"
   ]
  },
  {
   "cell_type": "markdown",
   "metadata": {},
   "source": []
  }
 ],
 "metadata": {
  "kernelspec": {
   "display_name": "Python 3",
   "language": "python",
   "name": "python3"
  },
  "language_info": {
   "codemirror_mode": {
    "name": "ipython",
    "version": 3
   },
   "file_extension": ".py",
   "mimetype": "text/x-python",
   "name": "python",
   "nbconvert_exporter": "python",
   "pygments_lexer": "ipython3",
   "version": "3.6.3"
  }
 },
 "nbformat": 4,
 "nbformat_minor": 2
}
