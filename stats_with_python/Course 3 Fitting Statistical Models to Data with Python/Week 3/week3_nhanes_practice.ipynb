{
 "cells": [
  {
   "cell_type": "markdown",
   "metadata": {},
   "source": [
    "# Practice notebook for regression analysis with dependent data in NHANES\n",
    "\n",
    "This notebook will give you the opportunity to perform some analyses\n",
    "using the regression methods for dependent data that we are focusing\n",
    "on in this week of the course.\n",
    "\n",
    "Enter the code in response to each question in the boxes labeled \"enter your code here\".\n",
    "Then enter your responses to the questions in the boxes labeled \"Type\n",
    "Markdown and Latex\".\n",
    "\n",
    "This notebook is based on the NHANES case study notebook for\n",
    "regression with dependent data.  Most of the code that you will need\n",
    "to write below is very similar to code that appears in the case study\n",
    "notebook.  You will need to edit code from that notebook in small ways\n",
    "to adapt it to the prompts below.\n",
    "\n",
    "To get started, we will use the same module imports and read the data\n",
    "in the same way as we did in the case study:"
   ]
  },
  {
   "cell_type": "code",
   "execution_count": 1,
   "metadata": {},
   "outputs": [],
   "source": [
    "%matplotlib inline\n",
    "import matplotlib.pyplot as plt\n",
    "import seaborn as sns\n",
    "import pandas as pd\n",
    "import statsmodels.api as sm\n",
    "import numpy as np\n",
    "\n",
    "url = \"nhanes_2015_2016.csv\"\n",
    "da = pd.read_csv(url)\n",
    "\n",
    "# Drop unused columns, drop rows with any missing values.\n",
    "vars = [\"BPXSY1\", \"RIDAGEYR\", \"RIAGENDR\", \"RIDRETH1\", \"DMDEDUC2\", \"BMXBMI\",\n",
    "        \"SMQ020\", \"SDMVSTRA\", \"SDMVPSU\", \"BPXDI1\"]\n",
    "da = da[vars].dropna()\n",
    "\n",
    "# This is the grouping variable\n",
    "da[\"group\"] = 10*da.SDMVSTRA + da.SDMVPSU"
   ]
  },
  {
   "cell_type": "markdown",
   "metadata": {},
   "source": [
    "## Question 1: \n",
    "\n",
    "Build a marginal linear model using GEE for the first measurement of diastolic blood pressure (`BPXDI1`), accounting for the grouping variable defined above.  This initial model should have no covariates, and will be used to assess the ICC of this blood pressure measure."
   ]
  },
  {
   "cell_type": "code",
   "execution_count": 2,
   "metadata": {},
   "outputs": [
    {
     "name": "stdout",
     "output_type": "stream",
     "text": [
      "The correlation between two observations in the same cluster is 0.031\n",
      "The correlation between two observations in the same cluster is 0.030\n"
     ]
    }
   ],
   "source": [
    "model = sm.GEE.from_formula(\"BPXDI1 ~ 1\", groups=\"group\",\n",
    "           cov_struct=sm.cov_struct.Exchangeable(), data=da)\n",
    "result = model.fit()\n",
    "print(result.cov_struct.summary())\n",
    "\n",
    "model = sm.GEE.from_formula(\"BPXSY1 ~ 1\", groups=\"group\",\n",
    "           cov_struct=sm.cov_struct.Exchangeable(), data=da)\n",
    "result = model.fit()\n",
    "print(result.cov_struct.summary())\n"
   ]
  },
  {
   "cell_type": "markdown",
   "metadata": {},
   "source": [
    "__Q1a.__ What is the ICC for diastolic blood pressure?  What can you\n",
    "  conclude by comparing it to the ICC for systolic blood pressure?"
   ]
  },
  {
   "cell_type": "markdown",
   "metadata": {},
   "source": [
    "Diastolic blood pressure ICC = 0.031, which is negelible marginally strong than Systolic blood pressure\n",
    "Systolic blood presseue ICC = 0.030"
   ]
  },
  {
   "cell_type": "markdown",
   "metadata": {},
   "source": [
    "## Question 2: \n",
    "\n",
    "Take your model from question 1, and add gender, age, and BMI to it as covariates."
   ]
  },
  {
   "cell_type": "code",
   "execution_count": 3,
   "metadata": {},
   "outputs": [
    {
     "name": "stdout",
     "output_type": "stream",
     "text": [
      "The correlation between two observations in the same cluster is 0.030\n"
     ]
    }
   ],
   "source": [
    "da[\"RIAGENDRx\"] = da.RIAGENDR.replace({1: \"Male\", 2: \"Female\"})\n",
    "model = sm.GEE.from_formula(\"BPXDI1 ~ RIAGENDRx + BMXBMI + RIDAGEYR\", groups=\"group\",\n",
    "           cov_struct=sm.cov_struct.Exchangeable(), data=da)\n",
    "result = model.fit()\n",
    "print(result.cov_struct.summary())"
   ]
  },
  {
   "cell_type": "markdown",
   "metadata": {},
   "source": [
    "__Q2a.__ What is the ICC for this model?  What can you conclude by comparing it to the ICC for the model that you fit in question 1?"
   ]
  },
  {
   "cell_type": "markdown",
   "metadata": {},
   "source": [
    "ICC remains at 0.030"
   ]
  },
  {
   "cell_type": "markdown",
   "metadata": {},
   "source": [
    "## Question 3: \n",
    "\n",
    "Split the data into separate datasets for females and for males and fit two separate marginal linear models for diastolic blood pressure, one only for females, and one only for males."
   ]
  },
  {
   "cell_type": "code",
   "execution_count": 4,
   "metadata": {},
   "outputs": [
    {
     "name": "stdout",
     "output_type": "stream",
     "text": [
      "The correlation between two observations in the same cluster is 0.029\n",
      "The correlation between two observations in the same cluster is 0.035\n"
     ]
    }
   ],
   "source": [
    "da_f = da[da.RIAGENDRx == \"Female\"]\n",
    "da_m = da[da.RIAGENDRx == \"Male\"]\n",
    "model = sm.GEE.from_formula(\"BPXDI1 ~ 1\", groups=\"group\",\n",
    "           cov_struct=sm.cov_struct.Exchangeable(), data=da_f)\n",
    "result = model.fit()\n",
    "print(result.cov_struct.summary())\n",
    "model = sm.GEE.from_formula(\"BPXDI1 ~ 1\", groups=\"group\",\n",
    "           cov_struct=sm.cov_struct.Exchangeable(), data=da_m)\n",
    "result = model.fit()\n",
    "print(result.cov_struct.summary())"
   ]
  },
  {
   "cell_type": "markdown",
   "metadata": {},
   "source": [
    "__Q3a.__ What do you learn by comparing these two fitted models?"
   ]
  },
  {
   "cell_type": "markdown",
   "metadata": {},
   "source": [
    "ICC for female is 0.029 which is lower than male of 0.035 \n",
    "The ICC takes on values from 0 to 1, \n",
    "1 corresponding to \"perfect clustering\" -- the values within a cluster are identical, \n",
    "0 corresponding to \"perfect independence\" -- the mean value within each cluster is identical across all the clusters."
   ]
  },
  {
   "cell_type": "markdown",
   "metadata": {},
   "source": [
    "## Question 4: \n",
    "\n",
    "Using the entire data set, fit a multilevel model for diastolic blood pressure, predicted by age, gender, BMI, and educational attainment.  Include a random intercept for groups."
   ]
  },
  {
   "cell_type": "code",
   "execution_count": 8,
   "metadata": {},
   "outputs": [
    {
     "name": "stdout",
     "output_type": "stream",
     "text": [
      "            Mixed Linear Model Regression Results\n",
      "==============================================================\n",
      "Model:               MixedLM  Dependent Variable:  BPXDI1     \n",
      "No. Observations:    5102     Method:              REML       \n",
      "No. Groups:          30       Scale:               154.2055   \n",
      "Min. group size:     106      Log-Likelihood:      -20115.7588\n",
      "Max. group size:     226      Converged:           Yes        \n",
      "Mean group size:     170.1                                    \n",
      "--------------------------------------------------------------\n",
      "                   Coef.  Std.Err.   z    P>|z|  [0.025 0.975]\n",
      "--------------------------------------------------------------\n",
      "Intercept          64.688    1.153 56.123 0.000  62.429 66.947\n",
      "RIAGENDRx[T.Male]   2.756    0.351  7.860 0.000   2.069  3.444\n",
      "C(DMDEDUC2)[T.2.0]  0.736    0.726  1.013 0.311  -0.688  2.159\n",
      "C(DMDEDUC2)[T.3.0] -0.139    0.644 -0.216 0.829  -1.401  1.122\n",
      "C(DMDEDUC2)[T.4.0]  0.527    0.618  0.852 0.394  -0.685  1.739\n",
      "C(DMDEDUC2)[T.5.0]  0.955    0.641  1.489 0.137  -0.302  2.212\n",
      "C(DMDEDUC2)[T.9.0] -2.978    8.823 -0.338 0.736 -20.272 14.315\n",
      "RIDAGEYR           -0.039    0.010 -3.870 0.000  -0.059 -0.019\n",
      "BMXBMI              0.186    0.026  7.286 0.000   0.136  0.236\n",
      "group Var           4.171    0.108                            \n",
      "==============================================================\n",
      "\n"
     ]
    }
   ],
   "source": [
    "model = sm.MixedLM.from_formula(\"BPXDI1 ~ RIDAGEYR + RIAGENDRx + BMXBMI + C(DMDEDUC2)\",\n",
    "           groups=\"group\", data=da)\n",
    "da[\"group1\"] = 10*da.SDMVSTRA + da.SDMVPSU + 10\n",
    "result = model.fit()\n",
    "print(result.summary())"
   ]
  },
  {
   "cell_type": "markdown",
   "metadata": {},
   "source": [
    "__Q4a.__ How would you describe the strength of the clustering in this analysis?"
   ]
  },
  {
   "cell_type": "markdown",
   "metadata": {},
   "source": []
  },
  {
   "cell_type": "markdown",
   "metadata": {},
   "source": [
    "__Q4b:__ Include a random intercept for age, and describe your findings."
   ]
  },
  {
   "cell_type": "code",
   "execution_count": 6,
   "metadata": {},
   "outputs": [
    {
     "name": "stdout",
     "output_type": "stream",
     "text": [
      "             Mixed Linear Model Regression Results\n",
      "===============================================================\n",
      "Model:              MixedLM   Dependent Variable:   BPXDI1     \n",
      "No. Observations:   5102      Method:               REML       \n",
      "No. Groups:         30        Scale:                153.1451   \n",
      "Min. group size:    106       Log-Likelihood:       -20110.2808\n",
      "Max. group size:    226       Converged:            Yes        \n",
      "Mean group size:    170.1                                      \n",
      "---------------------------------------------------------------\n",
      "                    Coef.  Std.Err.   z    P>|z|  [0.025 0.975]\n",
      "---------------------------------------------------------------\n",
      "Intercept           62.806    1.014 61.952 0.000  60.819 64.793\n",
      "RIAGENDRx[T.Male]    2.756    0.350  7.874 0.000   2.070  3.442\n",
      "C(DMDEDUC2)[T.2.0]   0.709    0.727  0.976 0.329  -0.716  2.134\n",
      "C(DMDEDUC2)[T.3.0]  -0.147    0.646 -0.227 0.820  -1.412  1.119\n",
      "C(DMDEDUC2)[T.4.0]   0.491    0.621  0.791 0.429  -0.726  1.708\n",
      "C(DMDEDUC2)[T.5.0]   0.921    0.644  1.430 0.153  -0.341  2.183\n",
      "C(DMDEDUC2)[T.9.0]  -2.623    8.826 -0.297 0.766 -19.922 14.676\n",
      "age_cen             -0.033    0.015 -2.174 0.030  -0.063 -0.003\n",
      "BMXBMI               0.185    0.026  7.259 0.000   0.135  0.235\n",
      "group Var            4.529    0.115                            \n",
      "group x age_cen Cov  0.039    0.003                            \n",
      "age_cen Var          0.004    0.000                            \n",
      "===============================================================\n",
      "\n"
     ]
    },
    {
     "name": "stderr",
     "output_type": "stream",
     "text": [
      "/opt/anaconda3/lib/python3.8/site-packages/statsmodels/regression/mixed_linear_model.py:2237: ConvergenceWarning: The MLE may be on the boundary of the parameter space.\n",
      "  warnings.warn(msg, ConvergenceWarning)\n"
     ]
    }
   ],
   "source": [
    "da[\"age_cen\"] = da.groupby(\"group\").RIDAGEYR.transform(lambda x:x-x.mean())\n",
    "model = sm.MixedLM.from_formula(\"BPXDI1 ~ age_cen + RIAGENDRx + BMXBMI + C(DMDEDUC2)\",\n",
    "           groups=\"group\", re_formula= \"1+age_cen\", data=da)\n",
    "result = model.fit()\n",
    "print(result.summary())"
   ]
  },
  {
   "cell_type": "code",
   "execution_count": null,
   "metadata": {},
   "outputs": [],
   "source": []
  }
 ],
 "metadata": {
  "kernelspec": {
   "display_name": "Python 3",
   "language": "python",
   "name": "python3"
  },
  "language_info": {
   "codemirror_mode": {
    "name": "ipython",
    "version": 3
   },
   "file_extension": ".py",
   "mimetype": "text/x-python",
   "name": "python",
   "nbconvert_exporter": "python",
   "pygments_lexer": "ipython3",
   "version": "3.8.8"
  }
 },
 "nbformat": 4,
 "nbformat_minor": 1
}
