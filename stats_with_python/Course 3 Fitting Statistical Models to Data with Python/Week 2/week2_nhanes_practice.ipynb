{
 "cells": [
  {
   "cell_type": "markdown",
   "metadata": {},
   "source": [
    "# Practice notebook for regression analysis with NHANES\n",
    "\n",
    "This notebook will give you the opportunity to perform some\n",
    "regression analyses with the NHANES data that are similar to\n",
    "the analyses done in the week 2 case study notebook.\n",
    "\n",
    "You can enter your code into the cells that say \"enter your code here\",\n",
    "and you can type responses to the questions into the cells that say \"Type Markdown and Latex\".\n",
    "\n",
    "Note that most of the code that you will need to write below is very similar\n",
    "to code that appears in the case study notebook.  You will need\n",
    "to edit code from that notebook in small ways to adapt it to the\n",
    "prompts below.\n",
    "\n",
    "To get started, we will use the same module imports and\n",
    "read the data in the same way as we did in the case study:"
   ]
  },
  {
   "cell_type": "code",
   "execution_count": 56,
   "metadata": {},
   "outputs": [],
   "source": [
    "%matplotlib inline\n",
    "import matplotlib.pyplot as plt\n",
    "import seaborn as sns\n",
    "import pandas as pd\n",
    "import statsmodels.api as sm\n",
    "import numpy as np\n",
    "\n",
    "url = \"https://raw.githubusercontent.com/kshedden/statswpy/master/NHANES/merged/nhanes_2015_2016.csv\"\n",
    "da = pd.read_csv(url)\n",
    "\n",
    "# Drop unused columns, drop rows with any missing values.\n",
    "vars = [\"BPXSY1\", \"RIDAGEYR\", \"RIAGENDR\", \"RIDRETH1\", \"DMDEDUC2\", \"BMXBMI\", \"SMQ020\"]\n",
    "da = da[vars].dropna()"
   ]
  },
  {
   "cell_type": "markdown",
   "metadata": {},
   "source": [
    "## Question 1:\n",
    "\n",
    "Use linear regression to relate the expected body mass index (BMI) to a person's age."
   ]
  },
  {
   "cell_type": "code",
   "execution_count": 57,
   "metadata": {},
   "outputs": [
    {
     "data": {
      "text/html": [
       "<table class=\"simpletable\">\n",
       "<caption>OLS Regression Results</caption>\n",
       "<tr>\n",
       "  <th>Dep. Variable:</th>         <td>BMXBMI</td>      <th>  R-squared:         </th> <td>   0.001</td> \n",
       "</tr>\n",
       "<tr>\n",
       "  <th>Model:</th>                   <td>OLS</td>       <th>  Adj. R-squared:    </th> <td>   0.000</td> \n",
       "</tr>\n",
       "<tr>\n",
       "  <th>Method:</th>             <td>Least Squares</td>  <th>  F-statistic:       </th> <td>   2.720</td> \n",
       "</tr>\n",
       "<tr>\n",
       "  <th>Date:</th>             <td>Sat, 07 Jan 2023</td> <th>  Prob (F-statistic):</th>  <td>0.0991</td>  \n",
       "</tr>\n",
       "<tr>\n",
       "  <th>Time:</th>                 <td>15:48:00</td>     <th>  Log-Likelihood:    </th> <td> -17149.</td> \n",
       "</tr>\n",
       "<tr>\n",
       "  <th>No. Observations:</th>      <td>  5102</td>      <th>  AIC:               </th> <td>3.430e+04</td>\n",
       "</tr>\n",
       "<tr>\n",
       "  <th>Df Residuals:</th>          <td>  5100</td>      <th>  BIC:               </th> <td>3.432e+04</td>\n",
       "</tr>\n",
       "<tr>\n",
       "  <th>Df Model:</th>              <td>     1</td>      <th>                     </th>     <td> </td>    \n",
       "</tr>\n",
       "<tr>\n",
       "  <th>Covariance Type:</th>      <td>nonrobust</td>    <th>                     </th>     <td> </td>    \n",
       "</tr>\n",
       "</table>\n",
       "<table class=\"simpletable\">\n",
       "<tr>\n",
       "      <td></td>         <th>coef</th>     <th>std err</th>      <th>t</th>      <th>P>|t|</th>  <th>[0.025</th>    <th>0.975]</th>  \n",
       "</tr>\n",
       "<tr>\n",
       "  <th>Intercept</th> <td>   29.0564</td> <td>    0.290</td> <td>  100.143</td> <td> 0.000</td> <td>   28.488</td> <td>   29.625</td>\n",
       "</tr>\n",
       "<tr>\n",
       "  <th>RIDAGEYR</th>  <td>    0.0091</td> <td>    0.006</td> <td>    1.649</td> <td> 0.099</td> <td>   -0.002</td> <td>    0.020</td>\n",
       "</tr>\n",
       "</table>\n",
       "<table class=\"simpletable\">\n",
       "<tr>\n",
       "  <th>Omnibus:</th>       <td>936.202</td> <th>  Durbin-Watson:     </th> <td>   2.009</td>\n",
       "</tr>\n",
       "<tr>\n",
       "  <th>Prob(Omnibus):</th> <td> 0.000</td>  <th>  Jarque-Bera (JB):  </th> <td>1857.656</td>\n",
       "</tr>\n",
       "<tr>\n",
       "  <th>Skew:</th>          <td> 1.105</td>  <th>  Prob(JB):          </th> <td>    0.00</td>\n",
       "</tr>\n",
       "<tr>\n",
       "  <th>Kurtosis:</th>      <td> 4.964</td>  <th>  Cond. No.          </th> <td>    156.</td>\n",
       "</tr>\n",
       "</table><br/><br/>Warnings:<br/>[1] Standard Errors assume that the covariance matrix of the errors is correctly specified."
      ],
      "text/plain": [
       "<class 'statsmodels.iolib.summary.Summary'>\n",
       "\"\"\"\n",
       "                            OLS Regression Results                            \n",
       "==============================================================================\n",
       "Dep. Variable:                 BMXBMI   R-squared:                       0.001\n",
       "Model:                            OLS   Adj. R-squared:                  0.000\n",
       "Method:                 Least Squares   F-statistic:                     2.720\n",
       "Date:                Sat, 07 Jan 2023   Prob (F-statistic):             0.0991\n",
       "Time:                        15:48:00   Log-Likelihood:                -17149.\n",
       "No. Observations:                5102   AIC:                         3.430e+04\n",
       "Df Residuals:                    5100   BIC:                         3.432e+04\n",
       "Df Model:                           1                                         \n",
       "Covariance Type:            nonrobust                                         \n",
       "==============================================================================\n",
       "                 coef    std err          t      P>|t|      [0.025      0.975]\n",
       "------------------------------------------------------------------------------\n",
       "Intercept     29.0564      0.290    100.143      0.000      28.488      29.625\n",
       "RIDAGEYR       0.0091      0.006      1.649      0.099      -0.002       0.020\n",
       "==============================================================================\n",
       "Omnibus:                      936.202   Durbin-Watson:                   2.009\n",
       "Prob(Omnibus):                  0.000   Jarque-Bera (JB):             1857.656\n",
       "Skew:                           1.105   Prob(JB):                         0.00\n",
       "Kurtosis:                       4.964   Cond. No.                         156.\n",
       "==============================================================================\n",
       "\n",
       "Warnings:\n",
       "[1] Standard Errors assume that the covariance matrix of the errors is correctly specified.\n",
       "\"\"\""
      ]
     },
     "execution_count": 57,
     "metadata": {},
     "output_type": "execute_result"
    }
   ],
   "source": [
    "model = sm.OLS.from_formula(\"BMXBMI ~ RIDAGEYR\", data=da)\n",
    "result = model.fit()\n",
    "result.summary()"
   ]
  },
  {
   "cell_type": "markdown",
   "metadata": {},
   "source": [
    "__Q1a.__ According to your fitted model, do older people tend to have higher or lower BMI than younger people?"
   ]
  },
  {
   "cell_type": "markdown",
   "metadata": {},
   "source": [
    "yes"
   ]
  },
  {
   "cell_type": "markdown",
   "metadata": {},
   "source": [
    "__Q1b.__ Based your analysis, are you confident that there is a relationship between BMI and age in the population that NHANES represents?"
   ]
  },
  {
   "cell_type": "markdown",
   "metadata": {},
   "source": [
    "no"
   ]
  },
  {
   "cell_type": "markdown",
   "metadata": {},
   "source": [
    "__Q1c.__ By how much does the average BMI of a 40 year old differ from the average BMI of a 20 year old?"
   ]
  },
  {
   "cell_type": "code",
   "execution_count": 58,
   "metadata": {},
   "outputs": [
    {
     "data": {
      "text/plain": [
       "0.182"
      ]
     },
     "execution_count": 58,
     "metadata": {},
     "output_type": "execute_result"
    }
   ],
   "source": [
    "(40 - 20)*0.0091"
   ]
  },
  {
   "cell_type": "markdown",
   "metadata": {},
   "source": [
    "__Q1d.__ What fraction of the variation of BMI in this population is explained by age?"
   ]
  },
  {
   "cell_type": "code",
   "execution_count": 59,
   "metadata": {},
   "outputs": [
    {
     "name": "stdout",
     "output_type": "stream",
     "text": [
      "            BMXBMI  RIDAGEYR\n",
      "BMXBMI    1.000000  0.023089\n",
      "RIDAGEYR  0.023089  1.000000\n"
     ]
    },
    {
     "data": {
      "text/plain": [
       "0.0005331238438369014"
      ]
     },
     "execution_count": 59,
     "metadata": {},
     "output_type": "execute_result"
    }
   ],
   "source": [
    "cc = da[['BMXBMI','RIDAGEYR']].corr()\n",
    "print(cc)\n",
    "cc.BMXBMI.RIDAGEYR**2"
   ]
  },
  {
   "cell_type": "markdown",
   "metadata": {},
   "source": [
    "## Question 2: \n",
    "\n",
    "Add gender and ethnicity as additional control variables to your linear model relating BMI to age.  You will need to recode the ethnic groups based\n",
    "on the values in the codebook entry for [RIDRETH1](https://wwwn.cdc.gov/Nchs/Nhanes/2015-2016/DEMO_I.htm#RIDRETH1)."
   ]
  },
  {
   "cell_type": "code",
   "execution_count": 60,
   "metadata": {},
   "outputs": [
    {
     "data": {
      "text/html": [
       "<table class=\"simpletable\">\n",
       "<caption>OLS Regression Results</caption>\n",
       "<tr>\n",
       "  <th>Dep. Variable:</th>         <td>BMXBMI</td>      <th>  R-squared:         </th> <td>   0.055</td> \n",
       "</tr>\n",
       "<tr>\n",
       "  <th>Model:</th>                   <td>OLS</td>       <th>  Adj. R-squared:    </th> <td>   0.054</td> \n",
       "</tr>\n",
       "<tr>\n",
       "  <th>Method:</th>             <td>Least Squares</td>  <th>  F-statistic:       </th> <td>   49.27</td> \n",
       "</tr>\n",
       "<tr>\n",
       "  <th>Date:</th>             <td>Sat, 07 Jan 2023</td> <th>  Prob (F-statistic):</th> <td>3.98e-59</td> \n",
       "</tr>\n",
       "<tr>\n",
       "  <th>Time:</th>                 <td>15:48:02</td>     <th>  Log-Likelihood:    </th> <td> -17007.</td> \n",
       "</tr>\n",
       "<tr>\n",
       "  <th>No. Observations:</th>      <td>  5102</td>      <th>  AIC:               </th> <td>3.403e+04</td>\n",
       "</tr>\n",
       "<tr>\n",
       "  <th>Df Residuals:</th>          <td>  5095</td>      <th>  BIC:               </th> <td>3.407e+04</td>\n",
       "</tr>\n",
       "<tr>\n",
       "  <th>Df Model:</th>              <td>     6</td>      <th>                     </th>     <td> </td>    \n",
       "</tr>\n",
       "<tr>\n",
       "  <th>Covariance Type:</th>      <td>nonrobust</td>    <th>                     </th>     <td> </td>    \n",
       "</tr>\n",
       "</table>\n",
       "<table class=\"simpletable\">\n",
       "<tr>\n",
       "                 <td></td>                    <th>coef</th>     <th>std err</th>      <th>t</th>      <th>P>|t|</th>  <th>[0.025</th>    <th>0.975]</th>  \n",
       "</tr>\n",
       "<tr>\n",
       "  <th>Intercept</th>                       <td>   31.2361</td> <td>    0.355</td> <td>   87.891</td> <td> 0.000</td> <td>   30.539</td> <td>   31.933</td>\n",
       "</tr>\n",
       "<tr>\n",
       "  <th>RIAGENDRx[T.Male]</th>               <td>   -1.0226</td> <td>    0.190</td> <td>   -5.370</td> <td> 0.000</td> <td>   -1.396</td> <td>   -0.649</td>\n",
       "</tr>\n",
       "<tr>\n",
       "  <th>RIDRETH1x[T.Non-Hispanic Black]</th> <td>   -0.4499</td> <td>    0.308</td> <td>   -1.460</td> <td> 0.144</td> <td>   -1.054</td> <td>    0.154</td>\n",
       "</tr>\n",
       "<tr>\n",
       "  <th>RIDRETH1x[T.Non-Hispanic White]</th> <td>   -1.8555</td> <td>    0.282</td> <td>   -6.588</td> <td> 0.000</td> <td>   -2.408</td> <td>   -1.303</td>\n",
       "</tr>\n",
       "<tr>\n",
       "  <th>RIDRETH1x[T.Other Hispanic]</th>     <td>   -0.9379</td> <td>    0.345</td> <td>   -2.721</td> <td> 0.007</td> <td>   -1.614</td> <td>   -0.262</td>\n",
       "</tr>\n",
       "<tr>\n",
       "  <th>RIDRETH1x[T.Other Race]</th>         <td>   -4.7799</td> <td>    0.334</td> <td>  -14.318</td> <td> 0.000</td> <td>   -5.434</td> <td>   -4.125</td>\n",
       "</tr>\n",
       "<tr>\n",
       "  <th>RIDAGEYR</th>                        <td>    0.0065</td> <td>    0.005</td> <td>    1.196</td> <td> 0.232</td> <td>   -0.004</td> <td>    0.017</td>\n",
       "</tr>\n",
       "</table>\n",
       "<table class=\"simpletable\">\n",
       "<tr>\n",
       "  <th>Omnibus:</th>       <td>917.090</td> <th>  Durbin-Watson:     </th> <td>   2.006</td>\n",
       "</tr>\n",
       "<tr>\n",
       "  <th>Prob(Omnibus):</th> <td> 0.000</td>  <th>  Jarque-Bera (JB):  </th> <td>1855.286</td>\n",
       "</tr>\n",
       "<tr>\n",
       "  <th>Skew:</th>          <td> 1.075</td>  <th>  Prob(JB):          </th> <td>    0.00</td>\n",
       "</tr>\n",
       "<tr>\n",
       "  <th>Kurtosis:</th>      <td> 5.026</td>  <th>  Cond. No.          </th> <td>    308.</td>\n",
       "</tr>\n",
       "</table><br/><br/>Warnings:<br/>[1] Standard Errors assume that the covariance matrix of the errors is correctly specified."
      ],
      "text/plain": [
       "<class 'statsmodels.iolib.summary.Summary'>\n",
       "\"\"\"\n",
       "                            OLS Regression Results                            \n",
       "==============================================================================\n",
       "Dep. Variable:                 BMXBMI   R-squared:                       0.055\n",
       "Model:                            OLS   Adj. R-squared:                  0.054\n",
       "Method:                 Least Squares   F-statistic:                     49.27\n",
       "Date:                Sat, 07 Jan 2023   Prob (F-statistic):           3.98e-59\n",
       "Time:                        15:48:02   Log-Likelihood:                -17007.\n",
       "No. Observations:                5102   AIC:                         3.403e+04\n",
       "Df Residuals:                    5095   BIC:                         3.407e+04\n",
       "Df Model:                           6                                         \n",
       "Covariance Type:            nonrobust                                         \n",
       "===================================================================================================\n",
       "                                      coef    std err          t      P>|t|      [0.025      0.975]\n",
       "---------------------------------------------------------------------------------------------------\n",
       "Intercept                          31.2361      0.355     87.891      0.000      30.539      31.933\n",
       "RIAGENDRx[T.Male]                  -1.0226      0.190     -5.370      0.000      -1.396      -0.649\n",
       "RIDRETH1x[T.Non-Hispanic Black]    -0.4499      0.308     -1.460      0.144      -1.054       0.154\n",
       "RIDRETH1x[T.Non-Hispanic White]    -1.8555      0.282     -6.588      0.000      -2.408      -1.303\n",
       "RIDRETH1x[T.Other Hispanic]        -0.9379      0.345     -2.721      0.007      -1.614      -0.262\n",
       "RIDRETH1x[T.Other Race]            -4.7799      0.334    -14.318      0.000      -5.434      -4.125\n",
       "RIDAGEYR                            0.0065      0.005      1.196      0.232      -0.004       0.017\n",
       "==============================================================================\n",
       "Omnibus:                      917.090   Durbin-Watson:                   2.006\n",
       "Prob(Omnibus):                  0.000   Jarque-Bera (JB):             1855.286\n",
       "Skew:                           1.075   Prob(JB):                         0.00\n",
       "Kurtosis:                       5.026   Cond. No.                         308.\n",
       "==============================================================================\n",
       "\n",
       "Warnings:\n",
       "[1] Standard Errors assume that the covariance matrix of the errors is correctly specified.\n",
       "\"\"\""
      ]
     },
     "execution_count": 60,
     "metadata": {},
     "output_type": "execute_result"
    }
   ],
   "source": [
    "da[\"RIAGENDRx\"] = da.RIAGENDR.replace({1: \"Male\", 2: \"Female\"})\n",
    "da['RIDRETH1x'] = da.RIDRETH1.replace({1: 'Mexican American', 2: 'Other Hispanic', 3: 'Non-Hispanic White', \\\n",
    "                                         4: 'Non-Hispanic Black', 5: 'Other Race'})\n",
    "model = sm.OLS.from_formula(\"BMXBMI ~ RIDAGEYR + RIAGENDRx + RIDRETH1x\", data=da)\n",
    "result = model.fit()\n",
    "result.summary()"
   ]
  },
  {
   "cell_type": "markdown",
   "metadata": {},
   "source": [
    "__Q2a.__ How did the mean relationship between BMI and age change when you added additional covariates to the model?"
   ]
  },
  {
   "cell_type": "markdown",
   "metadata": {},
   "source": [
    "Decreased from 0.0091 to 0.0065"
   ]
  },
  {
   "cell_type": "markdown",
   "metadata": {},
   "source": [
    "__Q2b.__ How did the standard error for the regression parameter for age change when you added additional covariates to the model?"
   ]
  },
  {
   "cell_type": "markdown",
   "metadata": {},
   "source": [
    "Decreased from 0.006 to 0.005"
   ]
  },
  {
   "cell_type": "markdown",
   "metadata": {},
   "source": [
    "__Q2c.__ How much additional variation in BMI is explained by age, gender, and ethnicity that is not explained by age alone?"
   ]
  },
  {
   "cell_type": "markdown",
   "metadata": {},
   "source": [
    "0.055-0.001 = 0.054 R squared"
   ]
  },
  {
   "cell_type": "markdown",
   "metadata": {},
   "source": [
    "__Q2d.__ What reference level did the software select for the ethnicity variable?"
   ]
  },
  {
   "cell_type": "markdown",
   "metadata": {},
   "source": [
    "Mexican American"
   ]
  },
  {
   "cell_type": "markdown",
   "metadata": {},
   "source": [
    "__Q2e.__ What is the expected difference between the BMI of a 40 year-old non-Hispanic black man and a 30 year-old non-Hispanic black man?"
   ]
  },
  {
   "cell_type": "markdown",
   "metadata": {},
   "source": [
    "(40-30) *0.0065 = 0.065"
   ]
  },
  {
   "cell_type": "markdown",
   "metadata": {},
   "source": [
    "__Q2f.__ What is the expected difference between the BMI of a 50 year-old Mexican American woman and a 50 year-old non-Hispanic black man?"
   ]
  },
  {
   "cell_type": "markdown",
   "metadata": {},
   "source": [
    "baseline = 50 year old mexican american woman\n",
    "changes = -1.0226 -0.4499 = - 1.4725"
   ]
  },
  {
   "cell_type": "markdown",
   "metadata": {},
   "source": [
    "## Question 3: \n",
    "\n",
    "Randomly sample 25% of the NHANES data, then fit the same model you used in question 2 to this data set."
   ]
  },
  {
   "cell_type": "code",
   "execution_count": 61,
   "metadata": {},
   "outputs": [
    {
     "name": "stdout",
     "output_type": "stream",
     "text": [
      "<class 'pandas.core.frame.DataFrame'>\n",
      "Int64Index: 5102 entries, 0 to 5734\n",
      "Data columns (total 9 columns):\n",
      "BPXSY1       5102 non-null float64\n",
      "RIDAGEYR     5102 non-null int64\n",
      "RIAGENDR     5102 non-null int64\n",
      "RIDRETH1     5102 non-null int64\n",
      "DMDEDUC2     5102 non-null float64\n",
      "BMXBMI       5102 non-null float64\n",
      "SMQ020       5102 non-null int64\n",
      "RIAGENDRx    5102 non-null object\n",
      "RIDRETH1x    5102 non-null object\n",
      "dtypes: float64(3), int64(4), object(2)\n",
      "memory usage: 398.6+ KB\n",
      "None\n"
     ]
    },
    {
     "data": {
      "text/html": [
       "<table class=\"simpletable\">\n",
       "<caption>OLS Regression Results</caption>\n",
       "<tr>\n",
       "  <th>Dep. Variable:</th>         <td>BMXBMI</td>      <th>  R-squared:         </th> <td>   0.049</td>\n",
       "</tr>\n",
       "<tr>\n",
       "  <th>Model:</th>                   <td>OLS</td>       <th>  Adj. R-squared:    </th> <td>   0.044</td>\n",
       "</tr>\n",
       "<tr>\n",
       "  <th>Method:</th>             <td>Least Squares</td>  <th>  F-statistic:       </th> <td>   10.88</td>\n",
       "</tr>\n",
       "<tr>\n",
       "  <th>Date:</th>             <td>Sat, 07 Jan 2023</td> <th>  Prob (F-statistic):</th> <td>7.75e-12</td>\n",
       "</tr>\n",
       "<tr>\n",
       "  <th>Time:</th>                 <td>15:48:04</td>     <th>  Log-Likelihood:    </th> <td> -4275.1</td>\n",
       "</tr>\n",
       "<tr>\n",
       "  <th>No. Observations:</th>      <td>  1276</td>      <th>  AIC:               </th> <td>   8564.</td>\n",
       "</tr>\n",
       "<tr>\n",
       "  <th>Df Residuals:</th>          <td>  1269</td>      <th>  BIC:               </th> <td>   8600.</td>\n",
       "</tr>\n",
       "<tr>\n",
       "  <th>Df Model:</th>              <td>     6</td>      <th>                     </th>     <td> </td>   \n",
       "</tr>\n",
       "<tr>\n",
       "  <th>Covariance Type:</th>      <td>nonrobust</td>    <th>                     </th>     <td> </td>   \n",
       "</tr>\n",
       "</table>\n",
       "<table class=\"simpletable\">\n",
       "<tr>\n",
       "                 <td></td>                    <th>coef</th>     <th>std err</th>      <th>t</th>      <th>P>|t|</th>  <th>[0.025</th>    <th>0.975]</th>  \n",
       "</tr>\n",
       "<tr>\n",
       "  <th>Intercept</th>                       <td>   30.4715</td> <td>    0.716</td> <td>   42.561</td> <td> 0.000</td> <td>   29.067</td> <td>   31.876</td>\n",
       "</tr>\n",
       "<tr>\n",
       "  <th>RIAGENDRx[T.Male]</th>               <td>   -1.1549</td> <td>    0.389</td> <td>   -2.966</td> <td> 0.003</td> <td>   -1.919</td> <td>   -0.391</td>\n",
       "</tr>\n",
       "<tr>\n",
       "  <th>RIDRETH1x[T.Non-Hispanic Black]</th> <td>   -0.5698</td> <td>    0.615</td> <td>   -0.926</td> <td> 0.355</td> <td>   -1.777</td> <td>    0.638</td>\n",
       "</tr>\n",
       "<tr>\n",
       "  <th>RIDRETH1x[T.Non-Hispanic White]</th> <td>   -1.4385</td> <td>    0.566</td> <td>   -2.540</td> <td> 0.011</td> <td>   -2.549</td> <td>   -0.328</td>\n",
       "</tr>\n",
       "<tr>\n",
       "  <th>RIDRETH1x[T.Other Hispanic]</th>     <td>   -1.1713</td> <td>    0.681</td> <td>   -1.720</td> <td> 0.086</td> <td>   -2.507</td> <td>    0.165</td>\n",
       "</tr>\n",
       "<tr>\n",
       "  <th>RIDRETH1x[T.Other Race]</th>         <td>   -4.4491</td> <td>    0.681</td> <td>   -6.534</td> <td> 0.000</td> <td>   -5.785</td> <td>   -3.113</td>\n",
       "</tr>\n",
       "<tr>\n",
       "  <th>RIDAGEYR</th>                        <td>    0.0230</td> <td>    0.011</td> <td>    2.059</td> <td> 0.040</td> <td>    0.001</td> <td>    0.045</td>\n",
       "</tr>\n",
       "</table>\n",
       "<table class=\"simpletable\">\n",
       "<tr>\n",
       "  <th>Omnibus:</th>       <td>255.137</td> <th>  Durbin-Watson:     </th> <td>   1.943</td> \n",
       "</tr>\n",
       "<tr>\n",
       "  <th>Prob(Omnibus):</th> <td> 0.000</td>  <th>  Jarque-Bera (JB):  </th> <td> 547.840</td> \n",
       "</tr>\n",
       "<tr>\n",
       "  <th>Skew:</th>          <td> 1.127</td>  <th>  Prob(JB):          </th> <td>1.09e-119</td>\n",
       "</tr>\n",
       "<tr>\n",
       "  <th>Kurtosis:</th>      <td> 5.285</td>  <th>  Cond. No.          </th> <td>    298.</td> \n",
       "</tr>\n",
       "</table><br/><br/>Warnings:<br/>[1] Standard Errors assume that the covariance matrix of the errors is correctly specified."
      ],
      "text/plain": [
       "<class 'statsmodels.iolib.summary.Summary'>\n",
       "\"\"\"\n",
       "                            OLS Regression Results                            \n",
       "==============================================================================\n",
       "Dep. Variable:                 BMXBMI   R-squared:                       0.049\n",
       "Model:                            OLS   Adj. R-squared:                  0.044\n",
       "Method:                 Least Squares   F-statistic:                     10.88\n",
       "Date:                Sat, 07 Jan 2023   Prob (F-statistic):           7.75e-12\n",
       "Time:                        15:48:04   Log-Likelihood:                -4275.1\n",
       "No. Observations:                1276   AIC:                             8564.\n",
       "Df Residuals:                    1269   BIC:                             8600.\n",
       "Df Model:                           6                                         \n",
       "Covariance Type:            nonrobust                                         \n",
       "===================================================================================================\n",
       "                                      coef    std err          t      P>|t|      [0.025      0.975]\n",
       "---------------------------------------------------------------------------------------------------\n",
       "Intercept                          30.4715      0.716     42.561      0.000      29.067      31.876\n",
       "RIAGENDRx[T.Male]                  -1.1549      0.389     -2.966      0.003      -1.919      -0.391\n",
       "RIDRETH1x[T.Non-Hispanic Black]    -0.5698      0.615     -0.926      0.355      -1.777       0.638\n",
       "RIDRETH1x[T.Non-Hispanic White]    -1.4385      0.566     -2.540      0.011      -2.549      -0.328\n",
       "RIDRETH1x[T.Other Hispanic]        -1.1713      0.681     -1.720      0.086      -2.507       0.165\n",
       "RIDRETH1x[T.Other Race]            -4.4491      0.681     -6.534      0.000      -5.785      -3.113\n",
       "RIDAGEYR                            0.0230      0.011      2.059      0.040       0.001       0.045\n",
       "==============================================================================\n",
       "Omnibus:                      255.137   Durbin-Watson:                   1.943\n",
       "Prob(Omnibus):                  0.000   Jarque-Bera (JB):              547.840\n",
       "Skew:                           1.127   Prob(JB):                    1.09e-119\n",
       "Kurtosis:                       5.285   Cond. No.                         298.\n",
       "==============================================================================\n",
       "\n",
       "Warnings:\n",
       "[1] Standard Errors assume that the covariance matrix of the errors is correctly specified.\n",
       "\"\"\""
      ]
     },
     "execution_count": 61,
     "metadata": {},
     "output_type": "execute_result"
    }
   ],
   "source": [
    "print(da.info())\n",
    "da1 = da.sample(1276)\n",
    "len(da1)\n",
    "model = sm.OLS.from_formula(\"BMXBMI ~ RIDAGEYR + RIAGENDRx + RIDRETH1x\", data=da1)\n",
    "result = model.fit()\n",
    "result.summary()"
   ]
  },
  {
   "cell_type": "markdown",
   "metadata": {},
   "source": [
    "__Q3a.__ How do the estimated regression coefficients and their standard errors compare between these two models?  Do you see any systematic relationship between the two sets of results?"
   ]
  },
  {
   "cell_type": "markdown",
   "metadata": {},
   "source": [
    "Coefficients is x2, standard error is x 2.4. smaller sampel leads to higher coefficient and higher standard error"
   ]
  },
  {
   "cell_type": "markdown",
   "metadata": {},
   "source": [
    "## Question 4:\n",
    "\n",
    "Generate a scatterplot of the residuals against the fitted values for the model you fit in question 2."
   ]
  },
  {
   "cell_type": "code",
   "execution_count": 62,
   "metadata": {},
   "outputs": [
    {
     "data": {
      "image/png": "[encoded data removed]",
      "text/plain": [
       "<Figure size 432x288 with 1 Axes>"
      ]
     },
     "metadata": {},
     "output_type": "display_data"
    }
   ],
   "source": [
    "pp = sns.scatterplot(result.fittedvalues, result.resid)\n",
    "pp.set_xlabel(\"Fitted values\")\n",
    "_ = pp.set_ylabel(\"Residuals\")"
   ]
  },
  {
   "cell_type": "markdown",
   "metadata": {},
   "source": [
    "__Q4a.__ What mean/variance relationship do you see?"
   ]
  },
  {
   "cell_type": "markdown",
   "metadata": {},
   "source": [
    "Variance increase with mean increase upto BMI 30-31, then minor decease towards BMI 32"
   ]
  },
  {
   "cell_type": "markdown",
   "metadata": {},
   "source": [
    "## Question 5: \n",
    "\n",
    "Generate a plot showing the fitted mean BMI as a function of age for Mexican American men.  Include a 95% simultaneous confidence band on your graph."
   ]
  },
  {
   "cell_type": "code",
   "execution_count": 63,
   "metadata": {},
   "outputs": [
    {
     "data": {
      "image/png": "[encoded data removed]",
      "text/plain": [
       "<Figure size 432x288 with 1 Axes>"
      ]
     },
     "metadata": {},
     "output_type": "display_data"
    }
   ],
   "source": [
    "from statsmodels.sandbox.predict_functional import predict_functional\n",
    "values = {\"RIAGENDRx\": \"Male\", \"RIAGENDR\": 1,'BPXSY1':1,\"RIDRETH1x\": \"Mexican American\",\n",
    "          \"DMDEDUC2\": 1, \"RIDRETH1\": 1, \"SMQ020\": 1}\n",
    "pr, cb, fv = predict_functional(result, \"RIDAGEYR\",\n",
    "                values=values, ci_method=\"simultaneous\")\n",
    "ax = sns.lineplot(fv, pr, lw=4)\n",
    "ax.fill_between(fv, cb[:, 0], cb[:, 1], color='grey', alpha=0.4)\n",
    "ax.set_xlabel(\"Age\")\n",
    "_ = ax.set_ylabel(\"BMI\")"
   ]
  },
  {
   "cell_type": "markdown",
   "metadata": {},
   "source": [
    "__Q5a.__ According to your graph, what is the longest interval starting at year 30 following which the mean BMI could be constant?  *Hint:* What is the longest horizontal line starting at age 30 that remains within the confidence band? "
   ]
  },
  {
   "cell_type": "markdown",
   "metadata": {},
   "source": [
    "BMI around 29.5-31.5"
   ]
  },
  {
   "cell_type": "code",
   "execution_count": 64,
   "metadata": {},
   "outputs": [
    {
     "data": {
      "image/png": "[encoded data removed]",
      "text/plain": [
       "<Figure size 432x288 with 1 Axes>"
      ]
     },
     "metadata": {},
     "output_type": "display_data"
    }
   ],
   "source": [
    "values = {\"RIAGENDRx\": \"Male\", \"RIAGENDR\": 1,'BPXSY1':1,\"RIDRETH1x\": \"Mexican American\",\n",
    "          \"DMDEDUC2\": 1, \"RIDRETH1\": 1, \"SMQ020\": 1}\n",
    "pr, cb, fv = predict_functional(result, \"RIDAGEYR\",\n",
    "                values=values, ci_method=\"simultaneous\")\n",
    "ax = sns.lineplot(fv, pr, lw=4)\n",
    "ax.fill_between(fv, cb[:, 0], cb[:, 1], color='grey', alpha=0.4)\n",
    "ax.set_xlabel(\"Age\")\n",
    "_ = ax.set_ylabel(\"BMI\")\n",
    "\n",
    "values = {\"RIAGENDRx\": \"Female\", \"RIAGENDR\": 1,'BPXSY1':1,\"RIDRETH1x\": \"Mexican American\",\n",
    "          \"DMDEDUC2\": 1, \"RIDRETH1\": 1, \"SMQ020\": 1}\n",
    "pr, cb, fv = predict_functional(result, \"RIDAGEYR\",\n",
    "                values=values, ci_method=\"simultaneous\")\n",
    "ax = sns.lineplot(fv, pr, lw=4)\n",
    "ax.fill_between(fv, cb[:, 0], cb[:, 1], color='grey', alpha=0.4)\n",
    "ax.set_xlabel(\"Age\")\n",
    "_ = ax.set_ylabel(\"BMI\")"
   ]
  },
  {
   "cell_type": "markdown",
   "metadata": {},
   "source": [
    "__Q5b.__ Add an additional line and confidence band to the same plot, showing the relationship between age and BMI for Mexican American women.  At what ages do these intervals not overlap?"
   ]
  },
  {
   "cell_type": "markdown",
   "metadata": {},
   "source": [
    "Overlap on all ages"
   ]
  },
  {
   "cell_type": "markdown",
   "metadata": {},
   "source": [
    "## Question 6:\n",
    "\n",
    "Use an added variable plot to assess the linearity of the relationship between BMI and age (when controlling for gender and ethnicity)."
   ]
  },
  {
   "cell_type": "code",
   "execution_count": 65,
   "metadata": {},
   "outputs": [
    {
     "data": {
      "text/plain": [
       "49.45511564092513"
      ]
     },
     "execution_count": 65,
     "metadata": {},
     "output_type": "execute_result"
    },
    {
     "data": {
      "image/png": "[encoded data removed]",
      "text/plain": [
       "<Figure size 432x288 with 1 Axes>"
      ]
     },
     "metadata": {},
     "output_type": "display_data"
    }
   ],
   "source": [
    "from statsmodels.graphics.regressionplots import add_lowess\n",
    "\n",
    "model = sm.GLM.from_formula(\"BMXBMI ~ RIDAGEYR + RIAGENDRx + RIDRETH1x\", data=da)\n",
    "result = model.fit()\n",
    "result.summary()\n",
    "\n",
    "fig = result.plot_added_variable(\"RIDAGEYR\")\n",
    "ax = fig.get_axes()[0]\n",
    "ax.lines[0].set_alpha(0.2)\n",
    "_ = add_lowess(ax)\n",
    "\n",
    "da[\"RIDAGEYR\"].mean()"
   ]
  },
  {
   "cell_type": "markdown",
   "metadata": {},
   "source": [
    "__Q6a.__ What is your interpretation of the added variable plot?"
   ]
  },
  {
   "cell_type": "markdown",
   "metadata": {},
   "source": [
    "the line increase faster from 18-39 indicating that BMI increase slightly faster\n",
    "the line stays rather flat from 49 onwards."
   ]
  },
  {
   "cell_type": "markdown",
   "metadata": {},
   "source": [
    "## Question 7: \n",
    "\n",
    "Generate a binary variable reflecting whether a person has had at least 12 drinks in their lifetime, based on the [ALQ110](https://wwwn.cdc.gov/Nchs/Nhanes/2015-2016/ALQ_I.htm#ALQ110) variable in NHANES.  Calculate the marginal probability, odds, and log odds of this variable for women and for men.  Then calculate the odds ratio for females relative to males."
   ]
  },
  {
   "cell_type": "code",
   "execution_count": 66,
   "metadata": {
    "scrolled": true
   },
   "outputs": [
    {
     "data": {
      "text/plain": [
       "Index(['BPXSY1', 'RIDAGEYR', 'RIAGENDR', 'RIDRETH1', 'DMDEDUC2', 'BMXBMI',\n",
       "       'SMQ020', 'RIAGENDRx', 'RIDRETH1x'],\n",
       "      dtype='object')"
      ]
     },
     "execution_count": 66,
     "metadata": {},
     "output_type": "execute_result"
    }
   ],
   "source": [
    "da.columns"
   ]
  },
  {
   "cell_type": "code",
   "execution_count": 67,
   "metadata": {},
   "outputs": [],
   "source": [
    "url = \"https://raw.githubusercontent.com/kshedden/statswpy/master/NHANES/merged/nhanes_2015_2016.csv\"\n",
    "da = pd.read_csv(url)\n",
    "\n",
    "vars = [\"RIDAGEYR\", \"RIAGENDR\", \"RIDRETH1\", \"DMDEDUC2\", \"ALQ110\"]\n",
    "da = da[vars].dropna()"
   ]
  },
  {
   "cell_type": "code",
   "execution_count": 73,
   "metadata": {},
   "outputs": [
    {
     "data": {
      "text/html": [
       "<div>\n",
       "<style scoped>\n",
       "    .dataframe tbody tr th:only-of-type {\n",
       "        vertical-align: middle;\n",
       "    }\n",
       "\n",
       "    .dataframe tbody tr th {\n",
       "        vertical-align: top;\n",
       "    }\n",
       "\n",
       "    .dataframe thead th {\n",
       "        text-align: right;\n",
       "    }\n",
       "</style>\n",
       "<table border=\"1\" class=\"dataframe\">\n",
       "  <thead>\n",
       "    <tr style=\"text-align: right;\">\n",
       "      <th>ALQ110x</th>\n",
       "      <th>0.0</th>\n",
       "      <th>1.0</th>\n",
       "      <th>odds</th>\n",
       "      <th>logodds</th>\n",
       "    </tr>\n",
       "    <tr>\n",
       "      <th>RIAGENDRx</th>\n",
       "      <th></th>\n",
       "      <th></th>\n",
       "      <th></th>\n",
       "      <th></th>\n",
       "    </tr>\n",
       "  </thead>\n",
       "  <tbody>\n",
       "    <tr>\n",
       "      <th>Female</th>\n",
       "      <td>0.550492</td>\n",
       "      <td>0.449508</td>\n",
       "      <td>0.816558</td>\n",
       "      <td>-0.202657</td>\n",
       "    </tr>\n",
       "    <tr>\n",
       "      <th>Male</th>\n",
       "      <td>0.541667</td>\n",
       "      <td>0.458333</td>\n",
       "      <td>0.846154</td>\n",
       "      <td>-0.167054</td>\n",
       "    </tr>\n",
       "  </tbody>\n",
       "</table>\n",
       "</div>"
      ],
      "text/plain": [
       "ALQ110x         0.0       1.0      odds   logodds\n",
       "RIAGENDRx                                        \n",
       "Female     0.550492  0.449508  0.816558 -0.202657\n",
       "Male       0.541667  0.458333  0.846154 -0.167054"
      ]
     },
     "execution_count": 73,
     "metadata": {},
     "output_type": "execute_result"
    }
   ],
   "source": [
    "da[\"ALQ110x\"] = da.ALQ110.replace({1:1, 2: 0, 7: np.nan, 9: np.nan}) \n",
    "da[\"RIAGENDRx\"] = da.RIAGENDR.replace({1: \"Male\", 2: \"Female\"})\n",
    "c = pd.crosstab(da.RIAGENDRx, da.ALQ110x).apply(lambda x: x/x.sum(), axis=1)\n",
    "c[\"odds\"] = c.loc[:,1]/c.loc[:,0]\n",
    "c[\"logodds\"] = np.log(c.odds)\n",
    "c"
   ]
  },
  {
   "cell_type": "markdown",
   "metadata": {},
   "source": [
    "__Q7a.__ Based on the log odds alone, do more than 50% of women drink alcohol?"
   ]
  },
  {
   "cell_type": "markdown",
   "metadata": {},
   "source": [
    "nope"
   ]
  },
  {
   "cell_type": "markdown",
   "metadata": {},
   "source": [
    "__Q7b.__ Does there appear to be an important difference between the alcohol use rate of women and men?"
   ]
  },
  {
   "cell_type": "code",
   "execution_count": 74,
   "metadata": {},
   "outputs": [
    {
     "data": {
      "text/plain": [
       "1.036244074017434"
      ]
     },
     "execution_count": 74,
     "metadata": {},
     "output_type": "execute_result"
    }
   ],
   "source": [
    "c.odds.Male/c.odds.Female"
   ]
  },
  {
   "cell_type": "markdown",
   "metadata": {},
   "source": [
    "## Question 8: \n",
    "\n",
    "Use logistic regression to express the log odds that a person drinks (based on the binary drinking variable that you constructed above) in terms of gender."
   ]
  },
  {
   "cell_type": "code",
   "execution_count": 75,
   "metadata": {},
   "outputs": [
    {
     "data": {
      "text/html": [
       "<table class=\"simpletable\">\n",
       "<caption>Generalized Linear Model Regression Results</caption>\n",
       "<tr>\n",
       "  <th>Dep. Variable:</th>       <td>ALQ110x</td>     <th>  No. Observations:  </th>  <td>  1575</td>  \n",
       "</tr>\n",
       "<tr>\n",
       "  <th>Model:</th>                 <td>GLM</td>       <th>  Df Residuals:      </th>  <td>  1573</td>  \n",
       "</tr>\n",
       "<tr>\n",
       "  <th>Model Family:</th>       <td>Binomial</td>     <th>  Df Model:          </th>  <td>     1</td>  \n",
       "</tr>\n",
       "<tr>\n",
       "  <th>Link Function:</th>        <td>logit</td>      <th>  Scale:             </th> <td>  1.0000</td> \n",
       "</tr>\n",
       "<tr>\n",
       "  <th>Method:</th>               <td>IRLS</td>       <th>  Log-Likelihood:    </th> <td> -1084.4</td> \n",
       "</tr>\n",
       "<tr>\n",
       "  <th>Date:</th>           <td>Sat, 07 Jan 2023</td> <th>  Deviance:          </th> <td>  2168.8</td> \n",
       "</tr>\n",
       "<tr>\n",
       "  <th>Time:</th>               <td>15:55:11</td>     <th>  Pearson chi2:      </th> <td>1.58e+03</td> \n",
       "</tr>\n",
       "<tr>\n",
       "  <th>No. Iterations:</th>         <td>4</td>        <th>  Covariance Type:   </th> <td>nonrobust</td>\n",
       "</tr>\n",
       "</table>\n",
       "<table class=\"simpletable\">\n",
       "<tr>\n",
       "          <td></td>             <th>coef</th>     <th>std err</th>      <th>z</th>      <th>P>|z|</th>  <th>[0.025</th>    <th>0.975]</th>  \n",
       "</tr>\n",
       "<tr>\n",
       "  <th>Intercept</th>         <td>   -0.2027</td> <td>    0.060</td> <td>   -3.372</td> <td> 0.001</td> <td>   -0.320</td> <td>   -0.085</td>\n",
       "</tr>\n",
       "<tr>\n",
       "  <th>RIAGENDRx[T.Male]</th> <td>    0.0356</td> <td>    0.112</td> <td>    0.319</td> <td> 0.750</td> <td>   -0.183</td> <td>    0.254</td>\n",
       "</tr>\n",
       "</table>"
      ],
      "text/plain": [
       "<class 'statsmodels.iolib.summary.Summary'>\n",
       "\"\"\"\n",
       "                 Generalized Linear Model Regression Results                  \n",
       "==============================================================================\n",
       "Dep. Variable:                ALQ110x   No. Observations:                 1575\n",
       "Model:                            GLM   Df Residuals:                     1573\n",
       "Model Family:                Binomial   Df Model:                            1\n",
       "Link Function:                  logit   Scale:                          1.0000\n",
       "Method:                          IRLS   Log-Likelihood:                -1084.4\n",
       "Date:                Sat, 07 Jan 2023   Deviance:                       2168.8\n",
       "Time:                        15:55:11   Pearson chi2:                 1.58e+03\n",
       "No. Iterations:                     4   Covariance Type:             nonrobust\n",
       "=====================================================================================\n",
       "                        coef    std err          z      P>|z|      [0.025      0.975]\n",
       "-------------------------------------------------------------------------------------\n",
       "Intercept            -0.2027      0.060     -3.372      0.001      -0.320      -0.085\n",
       "RIAGENDRx[T.Male]     0.0356      0.112      0.319      0.750      -0.183       0.254\n",
       "=====================================================================================\n",
       "\"\"\""
      ]
     },
     "execution_count": 75,
     "metadata": {},
     "output_type": "execute_result"
    }
   ],
   "source": [
    "model = sm.GLM.from_formula(\"ALQ110x ~ RIAGENDRx\", family=sm.families.Binomial(), data=da)\n",
    "result = model.fit()\n",
    "result.summary()"
   ]
  },
  {
   "cell_type": "markdown",
   "metadata": {},
   "source": [
    "__Q8a.__ Is there statistical evidence that the drinking rate differs between women and men?  If so, in what direction is there a difference?"
   ]
  },
  {
   "cell_type": "markdown",
   "metadata": {},
   "source": [
    "__Q8b.__ Confirm that the log odds ratio between drinking and smoking calculated using the logistic regression model matches the log odds ratio calculated directly in question 6."
   ]
  },
  {
   "cell_type": "code",
   "execution_count": 76,
   "metadata": {},
   "outputs": [
    {
     "data": {
      "text/plain": [
       "0.035602708770614305"
      ]
     },
     "execution_count": 76,
     "metadata": {},
     "output_type": "execute_result"
    }
   ],
   "source": [
    "c.logodds.Male - c.logodds.Female"
   ]
  },
  {
   "cell_type": "markdown",
   "metadata": {},
   "source": []
  },
  {
   "cell_type": "markdown",
   "metadata": {},
   "source": [
    "## Question 9: \n",
    "\n",
    "Use logistic regression to relate drinking to age, gender, and education."
   ]
  },
  {
   "cell_type": "code",
   "execution_count": 77,
   "metadata": {},
   "outputs": [
    {
     "data": {
      "text/html": [
       "<table class=\"simpletable\">\n",
       "<caption>Generalized Linear Model Regression Results</caption>\n",
       "<tr>\n",
       "  <th>Dep. Variable:</th>       <td>ALQ110x</td>     <th>  No. Observations:  </th>  <td>  1574</td>  \n",
       "</tr>\n",
       "<tr>\n",
       "  <th>Model:</th>                 <td>GLM</td>       <th>  Df Residuals:      </th>  <td>  1567</td>  \n",
       "</tr>\n",
       "<tr>\n",
       "  <th>Model Family:</th>       <td>Binomial</td>     <th>  Df Model:          </th>  <td>     6</td>  \n",
       "</tr>\n",
       "<tr>\n",
       "  <th>Link Function:</th>        <td>logit</td>      <th>  Scale:             </th> <td>  1.0000</td> \n",
       "</tr>\n",
       "<tr>\n",
       "  <th>Method:</th>               <td>IRLS</td>       <th>  Log-Likelihood:    </th> <td> -1059.5</td> \n",
       "</tr>\n",
       "<tr>\n",
       "  <th>Date:</th>           <td>Sat, 07 Jan 2023</td> <th>  Deviance:          </th> <td>  2118.9</td> \n",
       "</tr>\n",
       "<tr>\n",
       "  <th>Time:</th>               <td>15:59:01</td>     <th>  Pearson chi2:      </th> <td>1.57e+03</td> \n",
       "</tr>\n",
       "<tr>\n",
       "  <th>No. Iterations:</th>         <td>4</td>        <th>  Covariance Type:   </th> <td>nonrobust</td>\n",
       "</tr>\n",
       "</table>\n",
       "<table class=\"simpletable\">\n",
       "<tr>\n",
       "              <td></td>                <th>coef</th>     <th>std err</th>      <th>z</th>      <th>P>|z|</th>  <th>[0.025</th>    <th>0.975]</th>  \n",
       "</tr>\n",
       "<tr>\n",
       "  <th>Intercept</th>                <td>   -0.4296</td> <td>    0.185</td> <td>   -2.316</td> <td> 0.021</td> <td>   -0.793</td> <td>   -0.066</td>\n",
       "</tr>\n",
       "<tr>\n",
       "  <th>RIAGENDRx[T.Male]</th>        <td>    0.0172</td> <td>    0.114</td> <td>    0.151</td> <td> 0.880</td> <td>   -0.205</td> <td>    0.240</td>\n",
       "</tr>\n",
       "<tr>\n",
       "  <th>DMDEDUC2x[T.HS]</th>          <td>   -0.0873</td> <td>    0.157</td> <td>   -0.556</td> <td> 0.578</td> <td>   -0.395</td> <td>    0.221</td>\n",
       "</tr>\n",
       "<tr>\n",
       "  <th>DMDEDUC2x[T.SomeCollege]</th> <td>    0.0536</td> <td>    0.146</td> <td>    0.367</td> <td> 0.713</td> <td>   -0.232</td> <td>    0.339</td>\n",
       "</tr>\n",
       "<tr>\n",
       "  <th>DMDEDUC2x[T.lt9]</th>         <td>   -0.8972</td> <td>    0.171</td> <td>   -5.253</td> <td> 0.000</td> <td>   -1.232</td> <td>   -0.562</td>\n",
       "</tr>\n",
       "<tr>\n",
       "  <th>DMDEDUC2x[T.x9_11]</th>       <td>   -0.4886</td> <td>    0.182</td> <td>   -2.681</td> <td> 0.007</td> <td>   -0.846</td> <td>   -0.131</td>\n",
       "</tr>\n",
       "<tr>\n",
       "  <th>RIDAGEYR</th>                 <td>    0.0086</td> <td>    0.003</td> <td>    2.951</td> <td> 0.003</td> <td>    0.003</td> <td>    0.014</td>\n",
       "</tr>\n",
       "</table>"
      ],
      "text/plain": [
       "<class 'statsmodels.iolib.summary.Summary'>\n",
       "\"\"\"\n",
       "                 Generalized Linear Model Regression Results                  \n",
       "==============================================================================\n",
       "Dep. Variable:                ALQ110x   No. Observations:                 1574\n",
       "Model:                            GLM   Df Residuals:                     1567\n",
       "Model Family:                Binomial   Df Model:                            6\n",
       "Link Function:                  logit   Scale:                          1.0000\n",
       "Method:                          IRLS   Log-Likelihood:                -1059.5\n",
       "Date:                Sat, 07 Jan 2023   Deviance:                       2118.9\n",
       "Time:                        15:59:01   Pearson chi2:                 1.57e+03\n",
       "No. Iterations:                     4   Covariance Type:             nonrobust\n",
       "============================================================================================\n",
       "                               coef    std err          z      P>|z|      [0.025      0.975]\n",
       "--------------------------------------------------------------------------------------------\n",
       "Intercept                   -0.4296      0.185     -2.316      0.021      -0.793      -0.066\n",
       "RIAGENDRx[T.Male]            0.0172      0.114      0.151      0.880      -0.205       0.240\n",
       "DMDEDUC2x[T.HS]             -0.0873      0.157     -0.556      0.578      -0.395       0.221\n",
       "DMDEDUC2x[T.SomeCollege]     0.0536      0.146      0.367      0.713      -0.232       0.339\n",
       "DMDEDUC2x[T.lt9]            -0.8972      0.171     -5.253      0.000      -1.232      -0.562\n",
       "DMDEDUC2x[T.x9_11]          -0.4886      0.182     -2.681      0.007      -0.846      -0.131\n",
       "RIDAGEYR                     0.0086      0.003      2.951      0.003       0.003       0.014\n",
       "============================================================================================\n",
       "\"\"\""
      ]
     },
     "execution_count": 77,
     "metadata": {},
     "output_type": "execute_result"
    }
   ],
   "source": [
    "da[\"DMDEDUC2x\"] = da.DMDEDUC2.replace({1: \"lt9\", 2: \"x9_11\", 3: \"HS\", 4: \"SomeCollege\",\n",
    "                                       5: \"College\", 7: np.nan, 9: np.nan})\n",
    "model = sm.GLM.from_formula(\"ALQ110x ~ RIDAGEYR + RIAGENDRx + DMDEDUC2x\", family=sm.families.Binomial(), data=da)\n",
    "result = model.fit()\n",
    "result.summary()"
   ]
  },
  {
   "cell_type": "markdown",
   "metadata": {},
   "source": [
    "__Q9a.__ Which of these predictor variables shows a statistically significant association with drinking?"
   ]
  },
  {
   "cell_type": "markdown",
   "metadata": {},
   "source": [
    "Age. Edu (it9,tx9_11)"
   ]
  },
  {
   "cell_type": "markdown",
   "metadata": {},
   "source": [
    "__Q9b.__ What is the odds of a college educated, 50 year old woman drinking?"
   ]
  },
  {
   "cell_type": "code",
   "execution_count": 79,
   "metadata": {},
   "outputs": [
    {
     "data": {
      "text/plain": [
       "1.0004000800106678"
      ]
     },
     "execution_count": 79,
     "metadata": {},
     "output_type": "execute_result"
    }
   ],
   "source": [
    "np.exp(50*0.0086-0.4296)"
   ]
  },
  {
   "cell_type": "markdown",
   "metadata": {},
   "source": [
    "__Q9c.__ What is the odds ratio between the drinking status for college graduates and high school graduates (with no college), holding gender and age fixed?"
   ]
  },
  {
   "cell_type": "code",
   "execution_count": 80,
   "metadata": {},
   "outputs": [
    {
     "data": {
      "text/plain": [
       "0.9164021337508069"
      ]
     },
     "execution_count": 80,
     "metadata": {},
     "output_type": "execute_result"
    }
   ],
   "source": [
    "np.exp(0-0.0873) # odd(A/B) = exp(logoddA - logoddB)"
   ]
  },
  {
   "cell_type": "markdown",
   "metadata": {},
   "source": [
    "__Q9d.__ Did the regression parameter for gender change to a meaningful degree when age and education were added to the model?"
   ]
  },
  {
   "cell_type": "markdown",
   "metadata": {},
   "source": [
    "Yes. eg. coef decreased from 0.0365 to 0.0086"
   ]
  },
  {
   "cell_type": "markdown",
   "metadata": {},
   "source": [
    "## Question 10:\n",
    "\n",
    "Construct a CERES plot for the relationship between drinking and age (using the model that controls for gender and educational attainment)."
   ]
  },
  {
   "cell_type": "code",
   "execution_count": 81,
   "metadata": {},
   "outputs": [
    {
     "data": {
      "image/png": "[encoded data removed]",
      "text/plain": [
       "<Figure size 432x288 with 1 Axes>"
      ]
     },
     "metadata": {},
     "output_type": "display_data"
    }
   ],
   "source": [
    "fig = result.plot_ceres_residuals(\"RIDAGEYR\")\n",
    "ax = fig.get_axes()[0]\n",
    "ax.lines[0].set_alpha(0.2)\n",
    "_ = add_lowess(ax)"
   ]
  },
  {
   "cell_type": "markdown",
   "metadata": {},
   "source": [
    "__Q10a.__ Does the plot indicate any major non-linearity in the relationship between age and the log odds for drinking?"
   ]
  },
  {
   "cell_type": "markdown",
   "metadata": {},
   "source": [
    "yes"
   ]
  },
  {
   "cell_type": "code",
   "execution_count": null,
   "metadata": {},
   "outputs": [],
   "source": []
  }
 ],
 "metadata": {
  "kernelspec": {
   "display_name": "Python 3",
   "language": "python",
   "name": "python3"
  },
  "language_info": {
   "codemirror_mode": {
    "name": "ipython",
    "version": 3
   },
   "file_extension": ".py",
   "mimetype": "text/x-python",
   "name": "python",
   "nbconvert_exporter": "python",
   "pygments_lexer": "ipython3",
   "version": "3.6.3"
  }
 },
 "nbformat": 4,
 "nbformat_minor": 1
}
