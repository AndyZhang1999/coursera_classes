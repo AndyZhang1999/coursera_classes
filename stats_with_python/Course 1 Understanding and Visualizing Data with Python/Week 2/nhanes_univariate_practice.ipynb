{
 "cells": [
  {
   "cell_type": "markdown",
   "metadata": {},
   "source": [
    "# Practice notebook for univariate analysis using NHANES data\n",
    "\n",
    "This notebook will give you the opportunity to perform some univariate analyses on your own using the NHANES.  These analyses are similar to what was done in the week 2 NHANES case study notebook.\n",
    "\n",
    "You can enter your code into the cells that say \"enter your code here\", and you can type responses to the questions into the cells that say \"Type Markdown and Latex\".\n",
    "\n",
    "Note that most of the code that you will need to write below is very similar to code that appears in the case study notebook.  You will need to edit code from that notebook in small ways to adapt it to the prompts below.\n",
    "\n",
    "To get started, we will use the same module imports and read the data in the same way as we did in the case study:"
   ]
  },
  {
   "cell_type": "code",
   "execution_count": 168,
   "metadata": {},
   "outputs": [],
   "source": [
    "%matplotlib inline\n",
    "import matplotlib.pyplot as plt\n",
    "import seaborn as sns\n",
    "import pandas as pd\n",
    "import statsmodels.api as sm\n",
    "import numpy as np\n",
    "\n",
    "da = pd.read_csv(\"nhanes_2015_2016.csv\")"
   ]
  },
  {
   "cell_type": "markdown",
   "metadata": {},
   "source": [
    "## Question 1\n",
    "\n",
    "Relabel the marital status variable [DMDMARTL](https://wwwn.cdc.gov/Nchs/Nhanes/2015-2016/DEMO_I.htm#DMDMARTL) to have brief but informative character labels.  Then construct a frequency table of these values for all people, then for women only, and for men only.  Then construct these three frequency tables using only people whose age is between 30 and 40."
   ]
  },
  {
   "cell_type": "code",
   "execution_count": 174,
   "metadata": {},
   "outputs": [
    {
     "name": "stdout",
     "output_type": "stream",
     "text": [
      "1.0     2780\n",
      "5.0     1004\n",
      "3.0      579\n",
      "6.0      527\n",
      "2.0      396\n",
      "4.0      186\n",
      "77.0       2\n",
      "Name: DMDMARTL, dtype: int64\n",
      "5474\n",
      "(5735, 31)\n",
      "261\n",
      "Married                2780\n",
      "Never Married          1004\n",
      "Divorced                579\n",
      "Living with partner     527\n",
      "Widowed                 396\n",
      "Separated               186\n",
      "Refused                   2\n",
      "Name: DMDMARTLx, dtype: int64\n",
      "Female    2976\n",
      "Male      2759\n",
      "Name: RIAGENDRx, dtype: int64\n"
     ]
    }
   ],
   "source": [
    "print(da.DMDMARTL.value_counts())\n",
    "print(da.DMDMARTL.value_counts().sum())\n",
    "print(da.shape)\n",
    "print(pd.isnull(da.DMDMARTL).sum())\n",
    "da[\"DMDMARTLx\"] = da.DMDMARTL.replace({1: \"Married\", 2: \"Widowed\", 3: \"Divorced\", 4: \"Separated\", 5: \"Never Married\", 6:\"Living with partner\", 77: \"Refused\", 99: \"Don't know\"})\n",
    "print(da.DMDMARTLx.value_counts())\n",
    "da[\"RIAGENDRx\"] = da.RIAGENDR.replace({1: \"Male\", 2: \"Female\"})\n",
    "print(da.RIAGENDRx.value_counts())"
   ]
  },
  {
   "cell_type": "markdown",
   "metadata": {},
   "source": [
    "__Q1a.__ Briefly comment on some of the differences that you observe between the distribution of marital status between women and men, for people of all ages."
   ]
  },
  {
   "cell_type": "code",
   "execution_count": 175,
   "metadata": {},
   "outputs": [
    {
     "name": "stdout",
     "output_type": "stream",
     "text": [
      "count        5474\n",
      "unique          7\n",
      "top       Married\n",
      "freq         2780\n",
      "Name: DMDMARTLx, dtype: object\n",
      "Married                0.484743\n",
      "Never Married          0.175065\n",
      "Divorced               0.100959\n",
      "Living with partner    0.091892\n",
      "Widowed                0.069050\n",
      "Missing                0.045510\n",
      "Separated              0.032432\n",
      "Refused                0.000349\n",
      "Name: DMDMARTLx, dtype: float64\n",
      "RIAGENDRx  DMDMARTLx          \n",
      "Female     Married                1303\n",
      "           Never Married           520\n",
      "           Divorced                350\n",
      "           Widowed                 296\n",
      "           Living with partner     262\n",
      "           Missing                 126\n",
      "           Separated               118\n",
      "           Refused                   1\n",
      "Male       Married                1477\n",
      "           Never Married           484\n",
      "           Living with partner     265\n",
      "           Divorced                229\n",
      "           Missing                 135\n",
      "           Widowed                 100\n",
      "           Separated                68\n",
      "           Refused                   1\n",
      "Name: DMDMARTLx, dtype: int64\n",
      "DMDMARTLx  Divorced  Living with partner  Married  Missing  Never Married  Refused  Separated  Widowed\n",
      "RIAGENDRx                                                                                             \n",
      "Female        0.118                0.088    0.438    0.042          0.175    0.000      0.040    0.099\n",
      "Male          0.083                0.096    0.535    0.049          0.175    0.000      0.025    0.036\n"
     ]
    }
   ],
   "source": [
    "print(da.DMDMARTLx.dropna().describe())\n",
    "da[\"DMDMARTLx\"] = da.DMDMARTLx.fillna(\"Missing\")\n",
    "x = da.DMDMARTLx.value_counts()\n",
    "print(x / x.sum())\n",
    "dx= da.groupby(\"RIAGENDRx\")[\"DMDMARTLx\"].value_counts()\n",
    "print(dx)\n",
    "dx=dx.unstack()\n",
    "dx= dx.apply(lambda x: x/x.sum(),axis=1)\n",
    "print(dx.to_string(float_format=\"%.3f\"))"
   ]
  },
  {
   "cell_type": "markdown",
   "metadata": {},
   "source": [
    "__Q1b.__ Briefly comment on the differences that you observe between the distribution of marital status states for women between the overall population, and for women between the ages of 30 and 40."
   ]
  },
  {
   "cell_type": "code",
   "execution_count": 176,
   "metadata": {},
   "outputs": [
    {
     "name": "stdout",
     "output_type": "stream",
     "text": [
      "DMDMARTLx           Divorced  Living with partner  Married  Missing  Never Married  Refused  Separated  Widowed\n",
      "agegrp   RIAGENDRx                                                                                             \n",
      "(18, 30] Female         0.02                 0.22     0.06     0.44           0.26      NaN       0.06      NaN\n",
      "         Male           0.00                 0.18     0.04     0.56           0.26      NaN       0.04     0.01\n",
      "(30, 40] Female         0.07                 0.11     0.09      NaN           0.10      NaN       0.09     0.01\n",
      "         Male           0.04                 0.14     0.09      NaN           0.09     0.50       0.06     0.01\n",
      "(40, 50] Female         0.12                 0.07     0.10      NaN           0.06      NaN       0.18     0.03\n",
      "         Male           0.06                 0.06     0.10      NaN           0.04      NaN       0.06     0.01\n",
      "(50, 60] Female         0.14                 0.06     0.09      NaN           0.04     0.50       0.15     0.07\n",
      "         Male           0.10                 0.06     0.11      NaN           0.05      NaN       0.05     0.03\n",
      "(60, 70] Female         0.15                 0.04     0.08      NaN           0.04      NaN       0.12     0.16\n",
      "         Male           0.09                 0.04     0.10      NaN           0.04      NaN       0.08     0.04\n",
      "(70, 80] Female         0.10                 0.01     0.05      NaN           0.02      NaN       0.04     0.48\n",
      "         Male           0.10                 0.02     0.09      NaN           0.01      NaN       0.08     0.17\n"
     ]
    }
   ],
   "source": [
    "da[\"agegrp\"] = pd.cut(da.RIDAGEYR, [18, 30, 40, 50, 60, 70, 80])\n",
    "dx= da.groupby([\"agegrp\",\"RIAGENDRx\"])[\"DMDMARTLx\"].value_counts()\n",
    "dx= dx.unstack()\n",
    "dx= dx.apply(lambda x: x/x.sum())\n",
    "print(dx.to_string(float_format=\"%.2f\"))"
   ]
  },
  {
   "cell_type": "markdown",
   "metadata": {},
   "source": [
    "__Q1c.__ Repeat part b for the men."
   ]
  },
  {
   "cell_type": "raw",
   "metadata": {},
   "source": []
  },
  {
   "cell_type": "markdown",
   "metadata": {},
   "source": [
    "## Question 2\n",
    "\n",
    "Restricting to the female population, stratify the subjects into age bands no wider than ten years, and construct the distribution of marital status within each age band.  Within each age band, present the distribution in terms of proportions that must sum to 1."
   ]
  },
  {
   "cell_type": "code",
   "execution_count": 178,
   "metadata": {},
   "outputs": [
    {
     "name": "stdout",
     "output_type": "stream",
     "text": [
      "DMDMARTLx  Divorced  Living with partner  Married  Missing  Never Married  \\\n",
      "agegrp2                                                                     \n",
      "(10, 20]        NaN                  8.0      1.0    126.0           30.0   \n",
      "(20, 30]       11.0                106.0    157.0      NaN          229.0   \n",
      "(30, 40]       43.0                 57.0    258.0      NaN           97.0   \n",
      "(40, 50]       69.0                 37.0    288.0      NaN           63.0   \n",
      "(50, 60]       83.0                 32.0    257.0      NaN           42.0   \n",
      "(60, 70]       85.0                 19.0    212.0      NaN           38.0   \n",
      "(70, 80]       59.0                  3.0    130.0      NaN           21.0   \n",
      "\n",
      "DMDMARTLx  Refused  Separated  Widowed  \n",
      "agegrp2                                 \n",
      "(10, 20]       NaN        NaN      NaN  \n",
      "(20, 30]       NaN       11.0      NaN  \n",
      "(30, 40]       NaN       17.0      2.0  \n",
      "(40, 50]       NaN       33.0     12.0  \n",
      "(50, 60]       1.0       27.0     28.0  \n",
      "(60, 70]       NaN       22.0     65.0  \n",
      "(70, 80]       NaN        8.0    189.0  \n",
      "DMDMARTLx  Divorced  Living with partner  Married  Missing  Never Married  Refused  Separated  Widowed\n",
      "agegrp2                                                                                               \n",
      "(10, 20]        NaN                 0.05     0.01     0.76           0.18      NaN        NaN      NaN\n",
      "(20, 30]       0.02                 0.21     0.31      NaN           0.45      NaN       0.02      NaN\n",
      "(30, 40]       0.09                 0.12     0.54      NaN           0.20      NaN       0.04     0.00\n",
      "(40, 50]       0.14                 0.07     0.57      NaN           0.13      NaN       0.07     0.02\n",
      "(50, 60]       0.18                 0.07     0.55      NaN           0.09     0.00       0.06     0.06\n",
      "(60, 70]       0.19                 0.04     0.48      NaN           0.09      NaN       0.05     0.15\n",
      "(70, 80]       0.14                 0.01     0.32      NaN           0.05      NaN       0.02     0.46\n"
     ]
    }
   ],
   "source": [
    "da_female= da[da.RIAGENDRx == \"Female\"]\n",
    "da_female.head()\n",
    "da_female[\"agegrp2\"] = pd.cut(da.RIDAGEYR, [10,20, 30, 40, 50, 60, 70, 80])\n",
    "da_female= da_female.groupby([\"agegrp2\"])[\"DMDMARTLx\"].value_counts().unstack()\n",
    "print(da_female)\n",
    "da_female_prop= da_female.apply(lambda y: y/y.sum(), axis=1)\n",
    "print(da_female_prop.to_string(float_format=\"%.2f\"))"
   ]
  },
  {
   "cell_type": "markdown",
   "metadata": {},
   "source": [
    "__Q2a.__ Comment on the trends that you see in this series of marginal distributions."
   ]
  },
  {
   "cell_type": "raw",
   "metadata": {},
   "source": [
    "print(da_female)"
   ]
  },
  {
   "cell_type": "markdown",
   "metadata": {},
   "source": [
    "__Q2b.__ Repeat the construction for males."
   ]
  },
  {
   "cell_type": "code",
   "execution_count": 179,
   "metadata": {},
   "outputs": [
    {
     "name": "stdout",
     "output_type": "stream",
     "text": [
      "DMDMARTLx  Divorced  Living with partner  Married  Missing  Never Married  \\\n",
      "agegrp2                                                                     \n",
      "(10, 20]        NaN                  3.0      1.0    135.0           36.0   \n",
      "(20, 30]        2.0                 92.0    103.0      NaN          226.0   \n",
      "(30, 40]       24.0                 72.0    258.0      NaN           89.0   \n",
      "(40, 50]       34.0                 33.0    282.0      NaN           39.0   \n",
      "(50, 60]       57.0                 34.0    296.0      NaN           47.0   \n",
      "(60, 70]       55.0                 22.0    291.0      NaN           38.0   \n",
      "(70, 80]       57.0                  9.0    246.0      NaN            9.0   \n",
      "\n",
      "DMDMARTLx  Refused  Separated  Widowed  \n",
      "agegrp2                                 \n",
      "(10, 20]       NaN        NaN      NaN  \n",
      "(20, 30]       NaN        7.0      2.0  \n",
      "(30, 40]       1.0       12.0      2.0  \n",
      "(40, 50]       NaN       11.0      2.0  \n",
      "(50, 60]       NaN       10.0     10.0  \n",
      "(60, 70]       NaN       14.0     17.0  \n",
      "(70, 80]       NaN       14.0     67.0  \n",
      "DMDMARTLx  Divorced  Living with partner  Married  Missing  Never Married  Refused  Separated  Widowed\n",
      "agegrp2                                                                                               \n",
      "(10, 20]        NaN                 0.02     0.01     0.77           0.21      NaN        NaN      NaN\n",
      "(20, 30]       0.00                 0.21     0.24      NaN           0.52      NaN       0.02     0.00\n",
      "(30, 40]       0.05                 0.16     0.56      NaN           0.19     0.00       0.03     0.00\n",
      "(40, 50]       0.08                 0.08     0.70      NaN           0.10      NaN       0.03     0.00\n",
      "(50, 60]       0.13                 0.07     0.65      NaN           0.10      NaN       0.02     0.02\n",
      "(60, 70]       0.13                 0.05     0.67      NaN           0.09      NaN       0.03     0.04\n",
      "(70, 80]       0.14                 0.02     0.61      NaN           0.02      NaN       0.03     0.17\n"
     ]
    }
   ],
   "source": [
    "da_male= da[da.RIAGENDRx == \"Male\"]\n",
    "da_male[\"agegrp2\"] = pd.cut(da.RIDAGEYR, [10,20, 30, 40, 50, 60, 70, 80])\n",
    "da_male= da_male.groupby([\"agegrp2\"])[\"DMDMARTLx\"].value_counts().unstack()\n",
    "print(da_male)\n",
    "da_male_prop= da_male.apply(lambda y: y/y.sum(), axis=1)\n",
    "print(da_male_prop.to_string(float_format=\"%.2f\"))"
   ]
  },
  {
   "cell_type": "markdown",
   "metadata": {},
   "source": [
    "__Q2c.__ Comment on any notable differences that you see when comparing these results for females and for males."
   ]
  },
  {
   "cell_type": "raw",
   "metadata": {},
   "source": []
  },
  {
   "cell_type": "markdown",
   "metadata": {},
   "source": [
    "## Question 3\n",
    "\n",
    "Construct a histogram of the distribution of heights using the BMXHT variable in the NHANES sample."
   ]
  },
  {
   "cell_type": "code",
   "execution_count": 180,
   "metadata": {},
   "outputs": [
    {
     "name": "stdout",
     "output_type": "stream",
     "text": [
      "163.4    30\n",
      "169.6    29\n",
      "168.4    29\n",
      "167.9    29\n",
      "161.0    28\n",
      "Name: BMXHT, dtype: int64\n"
     ]
    },
    {
     "data": {
      "text/plain": [
       "<matplotlib.axes._subplots.AxesSubplot at 0x7f2695513d30>"
      ]
     },
     "execution_count": 180,
     "metadata": {},
     "output_type": "execute_result"
    },
    {
     "data": {
      "image/png": "[encoded data removed]",
      "text/plain": [
       "<Figure size 432x288 with 1 Axes>"
      ]
     },
     "metadata": {},
     "output_type": "display_data"
    }
   ],
   "source": [
    "print(da.BMXHT.value_counts().head())\n",
    "sns.distplot(da.BMXHT.dropna())"
   ]
  },
  {
   "cell_type": "markdown",
   "metadata": {},
   "source": [
    "__Q3a.__ Use the `bins` argument to [distplot](https://seaborn.pydata.org/generated/seaborn.distplot.html) to produce histograms with different numbers of bins.  Assess whether the default value for this argument gives a meaningful result, and comment on what happens as the number of bins grows excessively large or excessively small. "
   ]
  },
  {
   "cell_type": "code",
   "execution_count": 181,
   "metadata": {},
   "outputs": [
    {
     "data": {
      "text/plain": [
       "<matplotlib.axes._subplots.AxesSubplot at 0x7f269542c128>"
      ]
     },
     "execution_count": 181,
     "metadata": {},
     "output_type": "execute_result"
    },
    {
     "data": {
      "image/png": "[encoded data removed]",
      "text/plain": [
       "<Figure size 432x288 with 1 Axes>"
      ]
     },
     "metadata": {},
     "output_type": "display_data"
    }
   ],
   "source": [
    "sns.distplot(da.BMXHT.dropna(), bins = 100)\n",
    "sns.distplot(da.BMXHT.dropna(), bins = 10)"
   ]
  },
  {
   "cell_type": "markdown",
   "metadata": {},
   "source": [
    "__Q3b.__ Make separate histograms for the heights of women and men, then make a side-by-side boxplot showing the heights of women and men."
   ]
  },
  {
   "cell_type": "code",
   "execution_count": 182,
   "metadata": {},
   "outputs": [
    {
     "data": {
      "image/png": "[encoded data removed]",
      "text/plain": [
       "<Figure size 432x288 with 1 Axes>"
      ]
     },
     "metadata": {},
     "output_type": "display_data"
    }
   ],
   "source": [
    "sns.distplot(da[da.RIAGENDRx == \"Male\"].BMXHT.dropna())\n",
    "sns.distplot(da[da.RIAGENDRx == \"Female\"].BMXHT.dropna())\n",
    "plt.show()"
   ]
  },
  {
   "cell_type": "markdown",
   "metadata": {},
   "source": [
    "__Q3c.__ Comment on what features, if any are not represented clearly in the boxplots, and what features, if any, are easier to see in the boxplots than in the histograms."
   ]
  },
  {
   "cell_type": "raw",
   "metadata": {},
   "source": []
  },
  {
   "cell_type": "markdown",
   "metadata": {},
   "source": [
    "## Question 4\n",
    "\n",
    "Make a boxplot showing the distribution of within-subject differences between the first and second systolic blood pressure measurents ([BPXSY1](https://wwwn.cdc.gov/Nchs/Nhanes/2015-2016/BPX_I.htm#BPXSY1) and [BPXSY2](https://wwwn.cdc.gov/Nchs/Nhanes/2015-2016/BPX_I.htm#BPXSY2))."
   ]
  },
  {
   "cell_type": "code",
   "execution_count": 183,
   "metadata": {},
   "outputs": [
    {
     "data": {
      "image/png": "[encoded data removed]",
      "text/plain": [
       "<Figure size 432x288 with 1 Axes>"
      ]
     },
     "metadata": {},
     "output_type": "display_data"
    }
   ],
   "source": [
    "sns.distplot(da.BPXSY1.dropna(),bins= 100)\n",
    "sns.distplot(da.BPXSY2.dropna(),bins= 100)\n",
    "plt.show()"
   ]
  },
  {
   "cell_type": "markdown",
   "metadata": {},
   "source": [
    "__Q4a.__ What proportion of the subjects have a lower SBP on the second reading compared to the first?"
   ]
  },
  {
   "cell_type": "code",
   "execution_count": 184,
   "metadata": {},
   "outputs": [
    {
     "name": "stdout",
     "output_type": "stream",
     "text": [
      "   BPXSY1  BPXSY2  diff Lower\n",
      "0   128.0   124.0  -4.0   Yes\n",
      "1   146.0   140.0  -6.0   Yes\n",
      "2   138.0   132.0  -6.0   Yes\n",
      "3   132.0   134.0   2.0    No\n",
      "4   100.0   114.0  14.0    No\n"
     ]
    }
   ],
   "source": [
    "da1= da[[\"BPXSY1\",\"BPXSY2\"]]\n",
    "da1[\"diff\"]= da1[\"BPXSY2\"]- da1[\"BPXSY1\"]\n",
    "da1[\"Lower\"] = 'No'\n",
    "da1.loc[da1[\"diff\"]<0, 'Lower'] = 'Yes'\n",
    "print(da1.head())"
   ]
  },
  {
   "cell_type": "code",
   "execution_count": 185,
   "metadata": {},
   "outputs": [
    {
     "data": {
      "text/plain": [
       "No     0.570532\n",
       "Yes    0.429468\n",
       "Name: Lower, dtype: float64"
      ]
     },
     "execution_count": 185,
     "metadata": {},
     "output_type": "execute_result"
    }
   ],
   "source": [
    "da1.Lower.value_counts(\"Yes\")"
   ]
  },
  {
   "cell_type": "markdown",
   "metadata": {},
   "source": [
    "__Q4b.__ Make side-by-side boxplots of the two systolic blood pressure variables."
   ]
  },
  {
   "cell_type": "code",
   "execution_count": 186,
   "metadata": {},
   "outputs": [
    {
     "data": {
      "image/png": "[encoded data removed]",
      "text/plain": [
       "<Figure size 432x288 with 1 Axes>"
      ]
     },
     "metadata": {},
     "output_type": "display_data"
    }
   ],
   "source": [
    "bp = sns.boxplot(data=da.loc[:,[\"BPXSY1\",\"BPXSY2\"]])\n",
    "plt.show()"
   ]
  },
  {
   "cell_type": "markdown",
   "metadata": {},
   "source": [
    "__Q4c.__ Comment on the variation within either the first or second systolic blood pressure measurements, and the variation in the within-subject differences between the first and second systolic blood pressure measurements."
   ]
  },
  {
   "cell_type": "code",
   "execution_count": 187,
   "metadata": {},
   "outputs": [
    {
     "data": {
      "text/html": [
       "<div>\n",
       "<style scoped>\n",
       "    .dataframe tbody tr th:only-of-type {\n",
       "        vertical-align: middle;\n",
       "    }\n",
       "\n",
       "    .dataframe tbody tr th {\n",
       "        vertical-align: top;\n",
       "    }\n",
       "\n",
       "    .dataframe thead th {\n",
       "        text-align: right;\n",
       "    }\n",
       "</style>\n",
       "<table border=\"1\" class=\"dataframe\">\n",
       "  <thead>\n",
       "    <tr style=\"text-align: right;\">\n",
       "      <th></th>\n",
       "      <th>BPXSY1</th>\n",
       "      <th>BPXSY2</th>\n",
       "      <th>diff</th>\n",
       "    </tr>\n",
       "  </thead>\n",
       "  <tbody>\n",
       "    <tr>\n",
       "      <th>count</th>\n",
       "      <td>5401.000000</td>\n",
       "      <td>5535.000000</td>\n",
       "      <td>5369.000000</td>\n",
       "    </tr>\n",
       "    <tr>\n",
       "      <th>mean</th>\n",
       "      <td>125.084614</td>\n",
       "      <td>124.783017</td>\n",
       "      <td>-0.674986</td>\n",
       "    </tr>\n",
       "    <tr>\n",
       "      <th>std</th>\n",
       "      <td>18.480873</td>\n",
       "      <td>18.527012</td>\n",
       "      <td>5.046465</td>\n",
       "    </tr>\n",
       "    <tr>\n",
       "      <th>min</th>\n",
       "      <td>82.000000</td>\n",
       "      <td>84.000000</td>\n",
       "      <td>-32.000000</td>\n",
       "    </tr>\n",
       "    <tr>\n",
       "      <th>25%</th>\n",
       "      <td>112.000000</td>\n",
       "      <td>112.000000</td>\n",
       "      <td>-4.000000</td>\n",
       "    </tr>\n",
       "    <tr>\n",
       "      <th>50%</th>\n",
       "      <td>122.000000</td>\n",
       "      <td>122.000000</td>\n",
       "      <td>0.000000</td>\n",
       "    </tr>\n",
       "    <tr>\n",
       "      <th>75%</th>\n",
       "      <td>134.000000</td>\n",
       "      <td>134.000000</td>\n",
       "      <td>2.000000</td>\n",
       "    </tr>\n",
       "    <tr>\n",
       "      <th>max</th>\n",
       "      <td>236.000000</td>\n",
       "      <td>238.000000</td>\n",
       "      <td>26.000000</td>\n",
       "    </tr>\n",
       "  </tbody>\n",
       "</table>\n",
       "</div>"
      ],
      "text/plain": [
       "            BPXSY1       BPXSY2         diff\n",
       "count  5401.000000  5535.000000  5369.000000\n",
       "mean    125.084614   124.783017    -0.674986\n",
       "std      18.480873    18.527012     5.046465\n",
       "min      82.000000    84.000000   -32.000000\n",
       "25%     112.000000   112.000000    -4.000000\n",
       "50%     122.000000   122.000000     0.000000\n",
       "75%     134.000000   134.000000     2.000000\n",
       "max     236.000000   238.000000    26.000000"
      ]
     },
     "execution_count": 187,
     "metadata": {},
     "output_type": "execute_result"
    }
   ],
   "source": [
    "da1.head()\n",
    "da1.describe()"
   ]
  },
  {
   "cell_type": "markdown",
   "metadata": {},
   "source": [
    "## Question 5\n",
    "\n",
    "Construct a frequency table of household sizes for people within each educational attainment category (the relevant variable is [DMDEDUC2](https://wwwn.cdc.gov/Nchs/Nhanes/2015-2016/DEMO_I.htm#DMDEDUC2)).  Convert the frequencies to proportions."
   ]
  },
  {
   "cell_type": "code",
   "execution_count": 188,
   "metadata": {},
   "outputs": [
    {
     "name": "stdout",
     "output_type": "stream",
     "text": [
      "DMDHHSIZ                       1      2      3      4      5     6     7\n",
      "DMDEDUC2x                                                               \n",
      "9-11th grade                75.0  143.0  105.0   98.0   94.0  73.0  55.0\n",
      "College graduate or above  195.0  475.0  265.0  226.0  130.0  40.0  35.0\n",
      "Dont know                    NaN    2.0    NaN    NaN    1.0   NaN   NaN\n",
      "High School graduate       181.0  321.0  203.0  192.0  130.0  78.0  81.0\n",
      "Less than 9th grade         72.0  147.0   96.0   87.0   97.0  71.0  85.0\n",
      "Some college or AA degree  245.0  436.0  313.0  274.0  198.0  82.0  73.0\n"
     ]
    },
    {
     "data": {
      "text/html": [
       "<div>\n",
       "<style scoped>\n",
       "    .dataframe tbody tr th:only-of-type {\n",
       "        vertical-align: middle;\n",
       "    }\n",
       "\n",
       "    .dataframe tbody tr th {\n",
       "        vertical-align: top;\n",
       "    }\n",
       "\n",
       "    .dataframe thead th {\n",
       "        text-align: right;\n",
       "    }\n",
       "</style>\n",
       "<table border=\"1\" class=\"dataframe\">\n",
       "  <thead>\n",
       "    <tr style=\"text-align: right;\">\n",
       "      <th>DMDHHSIZ</th>\n",
       "      <th>1</th>\n",
       "      <th>2</th>\n",
       "      <th>3</th>\n",
       "      <th>4</th>\n",
       "      <th>5</th>\n",
       "      <th>6</th>\n",
       "      <th>7</th>\n",
       "    </tr>\n",
       "    <tr>\n",
       "      <th>DMDEDUC2x</th>\n",
       "      <th></th>\n",
       "      <th></th>\n",
       "      <th></th>\n",
       "      <th></th>\n",
       "      <th></th>\n",
       "      <th></th>\n",
       "      <th></th>\n",
       "    </tr>\n",
       "  </thead>\n",
       "  <tbody>\n",
       "    <tr>\n",
       "      <th>9-11th grade</th>\n",
       "      <td>0.116641</td>\n",
       "      <td>0.222395</td>\n",
       "      <td>0.163297</td>\n",
       "      <td>0.152411</td>\n",
       "      <td>0.146190</td>\n",
       "      <td>0.113530</td>\n",
       "      <td>0.085537</td>\n",
       "    </tr>\n",
       "    <tr>\n",
       "      <th>College graduate or above</th>\n",
       "      <td>0.142753</td>\n",
       "      <td>0.347731</td>\n",
       "      <td>0.193997</td>\n",
       "      <td>0.165447</td>\n",
       "      <td>0.095168</td>\n",
       "      <td>0.029283</td>\n",
       "      <td>0.025622</td>\n",
       "    </tr>\n",
       "    <tr>\n",
       "      <th>Dont know</th>\n",
       "      <td>NaN</td>\n",
       "      <td>0.666667</td>\n",
       "      <td>NaN</td>\n",
       "      <td>NaN</td>\n",
       "      <td>0.333333</td>\n",
       "      <td>NaN</td>\n",
       "      <td>NaN</td>\n",
       "    </tr>\n",
       "    <tr>\n",
       "      <th>High School graduate</th>\n",
       "      <td>0.152614</td>\n",
       "      <td>0.270658</td>\n",
       "      <td>0.171164</td>\n",
       "      <td>0.161889</td>\n",
       "      <td>0.109612</td>\n",
       "      <td>0.065767</td>\n",
       "      <td>0.068297</td>\n",
       "    </tr>\n",
       "    <tr>\n",
       "      <th>Less than 9th grade</th>\n",
       "      <td>0.109924</td>\n",
       "      <td>0.224427</td>\n",
       "      <td>0.146565</td>\n",
       "      <td>0.132824</td>\n",
       "      <td>0.148092</td>\n",
       "      <td>0.108397</td>\n",
       "      <td>0.129771</td>\n",
       "    </tr>\n",
       "    <tr>\n",
       "      <th>Some college or AA degree</th>\n",
       "      <td>0.151141</td>\n",
       "      <td>0.268970</td>\n",
       "      <td>0.193091</td>\n",
       "      <td>0.169031</td>\n",
       "      <td>0.122147</td>\n",
       "      <td>0.050586</td>\n",
       "      <td>0.045034</td>\n",
       "    </tr>\n",
       "  </tbody>\n",
       "</table>\n",
       "</div>"
      ],
      "text/plain": [
       "DMDHHSIZ                          1         2         3         4         5  \\\n",
       "DMDEDUC2x                                                                     \n",
       "9-11th grade               0.116641  0.222395  0.163297  0.152411  0.146190   \n",
       "College graduate or above  0.142753  0.347731  0.193997  0.165447  0.095168   \n",
       "Dont know                       NaN  0.666667       NaN       NaN  0.333333   \n",
       "High School graduate       0.152614  0.270658  0.171164  0.161889  0.109612   \n",
       "Less than 9th grade        0.109924  0.224427  0.146565  0.132824  0.148092   \n",
       "Some college or AA degree  0.151141  0.268970  0.193091  0.169031  0.122147   \n",
       "\n",
       "DMDHHSIZ                          6         7  \n",
       "DMDEDUC2x                                      \n",
       "9-11th grade               0.113530  0.085537  \n",
       "College graduate or above  0.029283  0.025622  \n",
       "Dont know                       NaN       NaN  \n",
       "High School graduate       0.065767  0.068297  \n",
       "Less than 9th grade        0.108397  0.129771  \n",
       "Some college or AA degree  0.050586  0.045034  "
      ]
     },
     "execution_count": 188,
     "metadata": {},
     "output_type": "execute_result"
    }
   ],
   "source": [
    "da.head()\n",
    "da2 = da[[\"DMDHHSIZ\",\"DMDEDUC2\"]]\n",
    "da2[\"DMDEDUC2x\"] = da2.DMDEDUC2.fillna(\"Missing\")\n",
    "da2[\"DMDEDUC2x\"] = da2.DMDEDUC2.replace({1: \"Less than 9th grade\", 2:\"9-11th grade\", 3:\"High School graduate\",\n",
    "                                         4:\"Some college or AA degree\", 5:\"College graduate or above\", \n",
    "                                         7:\"Refused\", 9: \"Dont know\"})\n",
    "da2.head()\n",
    "da2 = da2.groupby([\"DMDEDUC2x\"])[\"DMDHHSIZ\"].value_counts().unstack()\n",
    "print(da2)\n",
    "da2_prop = da2.apply(lambda z:z/z.sum(), axis=1)\n",
    "da2_prop.to_string(float_format= \"%.2f\")\n",
    "da2_prop"
   ]
  },
  {
   "cell_type": "markdown",
   "metadata": {},
   "source": [
    "__Q5a.__ Comment on any major differences among the distributions."
   ]
  },
  {
   "cell_type": "code",
   "execution_count": null,
   "metadata": {},
   "outputs": [],
   "source": []
  },
  {
   "cell_type": "markdown",
   "metadata": {},
   "source": [
    "__Q5b.__ Restrict the sample to people between 30 and 40 years of age.  Then calculate the median household size for women and men within each level of educational attainment."
   ]
  },
  {
   "cell_type": "code",
   "execution_count": 189,
   "metadata": {},
   "outputs": [
    {
     "name": "stdout",
     "output_type": "stream",
     "text": [
      "   DMDHHSIZ  DMDEDUC2            DMDMARTLx RIAGENDRx  RIDAGEYR  \\\n",
      "0         2       5.0              Married      Male        62   \n",
      "1         1       3.0             Divorced      Male        53   \n",
      "2         2       3.0              Married      Male        78   \n",
      "3         1       5.0  Living with partner    Female        56   \n",
      "4         5       4.0             Divorced    Female        42   \n",
      "\n",
      "                   DMDEDUC2x  \n",
      "0  College graduate or above  \n",
      "1       High School graduate  \n",
      "2       High School graduate  \n",
      "3  College graduate or above  \n",
      "4  Some college or AA degree  \n",
      "    DMDHHSIZ  DMDEDUC2            DMDMARTLx RIAGENDRx  RIDAGEYR  \\\n",
      "7          4       4.0              Married    Female        32   \n",
      "12         2       4.0  Living with partner    Female        30   \n",
      "34         3       4.0              Married    Female        37   \n",
      "50         7       3.0              Married    Female        39   \n",
      "61         4       3.0              Married    Female        37   \n",
      "\n",
      "                    DMDEDUC2x  \n",
      "7   Some college or AA degree  \n",
      "12  Some college or AA degree  \n",
      "34  Some college or AA degree  \n",
      "50       High School graduate  \n",
      "61       High School graduate  \n",
      "DMDEDUC2x\n",
      "9-11th grade                 5\n",
      "College graduate or above    3\n",
      "High School graduate         5\n",
      "Less than 9th grade          5\n",
      "Some college or AA degree    4\n",
      "Name: DMDHHSIZ, dtype: int64\n",
      "DMDEDUC2x\n",
      "9-11th grade                 4.5\n",
      "College graduate or above    3.0\n",
      "High School graduate         4.0\n",
      "Less than 9th grade          5.0\n",
      "Some college or AA degree    4.0\n",
      "Name: DMDHHSIZ, dtype: float64\n"
     ]
    }
   ],
   "source": [
    "da.head()\n",
    "da3 = da[[\"DMDHHSIZ\",\"DMDEDUC2\",\"DMDMARTLx\",\"RIAGENDRx\",\"RIDAGEYR\"]]\n",
    "da3[\"DMDEDUC2x\"] = da3.DMDEDUC2.fillna(\"Missing\")\n",
    "da3[\"DMDEDUC2x\"] = da3.DMDEDUC2.replace({1: \"Less than 9th grade\", 2:\"9-11th grade\", 3:\"High School graduate\",\n",
    "                                         4:\"Some college or AA degree\", 5:\"College graduate or above\", \n",
    "                                         7:\"Refused\", 9: \"Dont know\"})\n",
    "print(da3.head())\n",
    "years = list(range(30,41))\n",
    "da3_age3040 = da3[da3.RIDAGEYR.isin(years)]\n",
    "print(da3_age3040.head())\n",
    "da3_female = da3_age3040[da3_age3040.RIAGENDRx == \"Female\"].groupby([\"DMDEDUC2x\"])[\"DMDHHSIZ\"].median()\n",
    "print(da3_female)\n",
    "da3_male = da3_age3040[da3_age3040.RIAGENDRx == \"Male\"].groupby([\"DMDEDUC2x\"])[\"DMDHHSIZ\"].median()\n",
    "print(da3_male)"
   ]
  },
  {
   "cell_type": "markdown",
   "metadata": {},
   "source": [
    "## Question 6\n",
    "\n",
    "The participants can be clustered into \"maked variance units\" (MVU) based on every combination of the variables [SDMVSTRA](https://wwwn.cdc.gov/Nchs/Nhanes/2015-2016/DEMO_I.htm#SDMVSTRA) and [SDMVPSU](https://wwwn.cdc.gov/Nchs/Nhanes/2015-2016/DEMO_I.htm#SDMVPSU).  Calculate the mean age ([RIDAGEYR](https://wwwn.cdc.gov/Nchs/Nhanes/2015-2016/DEMO_I.htm#RIDAGEYR)), height ([BMXHT](https://wwwn.cdc.gov/Nchs/Nhanes/2015-2016/BMX_I.htm#BMXHT)), and BMI ([BMXBMI](https://wwwn.cdc.gov/Nchs/Nhanes/2015-2016/BMX_I.htm#BMXBMI)) for each gender ([RIAGENDR](https://wwwn.cdc.gov/Nchs/Nhanes/2015-2016/DEMO_I.htm#RIAGENDR)), within each MVU, and report the ratio between the largest and smallest mean (e.g. for height) across the MVUs."
   ]
  },
  {
   "cell_type": "code",
   "execution_count": 219,
   "metadata": {},
   "outputs": [
    {
     "name": "stdout",
     "output_type": "stream",
     "text": [
      "            RIDAGEYR                  BMXHT                 BMXBMI           \n",
      "RIAGENDRx     Female       Male      Female        Male     Female       Male\n",
      "MVU                                                                          \n",
      "119-1      47.663265  47.861111  159.570408  172.741667  30.052041  26.958333\n",
      "119-2      52.987952  54.363636  159.244578  172.906818  27.849398  27.160465\n",
      "120-1      43.636364  43.130000  155.402041  169.537755  32.419388  30.939175\n",
      "120-2      43.736111  45.219178  159.218056  173.075342  27.400000  27.727397\n",
      "121-1      44.397959  46.750000  158.871579  172.177885  30.856842  29.416505\n"
     ]
    },
    {
     "data": {
      "text/html": [
       "<div>\n",
       "<style scoped>\n",
       "    .dataframe tbody tr th:only-of-type {\n",
       "        vertical-align: middle;\n",
       "    }\n",
       "\n",
       "    .dataframe tbody tr th {\n",
       "        vertical-align: top;\n",
       "    }\n",
       "\n",
       "    .dataframe thead th {\n",
       "        text-align: right;\n",
       "    }\n",
       "</style>\n",
       "<table border=\"1\" class=\"dataframe\">\n",
       "  <thead>\n",
       "    <tr style=\"text-align: right;\">\n",
       "      <th>RIAGENDRx</th>\n",
       "      <th>Female</th>\n",
       "      <th>Male</th>\n",
       "      <th>diff</th>\n",
       "    </tr>\n",
       "    <tr>\n",
       "      <th>MVU</th>\n",
       "      <th></th>\n",
       "      <th></th>\n",
       "      <th></th>\n",
       "    </tr>\n",
       "  </thead>\n",
       "  <tbody>\n",
       "    <tr>\n",
       "      <th>119-1</th>\n",
       "      <td>159.570408</td>\n",
       "      <td>172.741667</td>\n",
       "      <td>-13.171259</td>\n",
       "    </tr>\n",
       "    <tr>\n",
       "      <th>119-2</th>\n",
       "      <td>159.244578</td>\n",
       "      <td>172.906818</td>\n",
       "      <td>-13.662240</td>\n",
       "    </tr>\n",
       "    <tr>\n",
       "      <th>120-1</th>\n",
       "      <td>155.402041</td>\n",
       "      <td>169.537755</td>\n",
       "      <td>-14.135714</td>\n",
       "    </tr>\n",
       "    <tr>\n",
       "      <th>120-2</th>\n",
       "      <td>159.218056</td>\n",
       "      <td>173.075342</td>\n",
       "      <td>-13.857287</td>\n",
       "    </tr>\n",
       "    <tr>\n",
       "      <th>121-1</th>\n",
       "      <td>158.871579</td>\n",
       "      <td>172.177885</td>\n",
       "      <td>-13.306306</td>\n",
       "    </tr>\n",
       "  </tbody>\n",
       "</table>\n",
       "</div>"
      ],
      "text/plain": [
       "RIAGENDRx      Female        Male       diff\n",
       "MVU                                         \n",
       "119-1      159.570408  172.741667 -13.171259\n",
       "119-2      159.244578  172.906818 -13.662240\n",
       "120-1      155.402041  169.537755 -14.135714\n",
       "120-2      159.218056  173.075342 -13.857287\n",
       "121-1      158.871579  172.177885 -13.306306"
      ]
     },
     "execution_count": 219,
     "metadata": {},
     "output_type": "execute_result"
    }
   ],
   "source": [
    "da4 = da[[\"SDMVSTRA\",\"SDMVPSU\",\"RIDAGEYR\",\"BMXHT\",\"BMXBMI\",\"RIAGENDRx\"]]\n",
    "da4[\"MVU\"] = da4.SDMVSTRA.astype(str) + \"-\" + da4.SDMVPSU.astype(str)\n",
    "da4_analysis = da4.groupby([\"MVU\",\"RIAGENDRx\"])[\"RIDAGEYR\",\"BMXHT\",\"BMXBMI\"].mean().unstack()\n",
    "print(da4_analysis.head())\n",
    "da4_height = da4.groupby([\"MVU\",\"RIAGENDRx\"])[\"BMXHT\"].mean().unstack()\n",
    "da4_height[\"diff\"] = da4_height.Female - da4_height.Male\n",
    "da4_height.head()"
   ]
  },
  {
   "cell_type": "markdown",
   "metadata": {},
   "source": [
    "__Q6a.__ Comment on the extent to which mean age, height, and BMI vary among the MVUs."
   ]
  },
  {
   "cell_type": "raw",
   "metadata": {},
   "source": []
  },
  {
   "cell_type": "markdown",
   "metadata": {},
   "source": [
    "__Q6b.__ Calculate the inter-quartile range (IQR) for age, height, and BMI for each gender and each MVU.  Report the ratio between the largest and smalles IQR across the MVUs."
   ]
  },
  {
   "cell_type": "code",
   "execution_count": 222,
   "metadata": {},
   "outputs": [
    {
     "data": {
      "text/html": [
       "<div>\n",
       "<style scoped>\n",
       "    .dataframe tbody tr th:only-of-type {\n",
       "        vertical-align: middle;\n",
       "    }\n",
       "\n",
       "    .dataframe tbody tr th {\n",
       "        vertical-align: top;\n",
       "    }\n",
       "\n",
       "    .dataframe thead tr th {\n",
       "        text-align: left;\n",
       "    }\n",
       "\n",
       "    .dataframe thead tr:last-of-type th {\n",
       "        text-align: right;\n",
       "    }\n",
       "</style>\n",
       "<table border=\"1\" class=\"dataframe\">\n",
       "  <thead>\n",
       "    <tr>\n",
       "      <th>0.5</th>\n",
       "      <th colspan=\"2\" halign=\"left\">RIDAGEYR</th>\n",
       "      <th colspan=\"2\" halign=\"left\">BMXHT</th>\n",
       "      <th colspan=\"2\" halign=\"left\">BMXBMI</th>\n",
       "    </tr>\n",
       "    <tr>\n",
       "      <th>RIAGENDRx</th>\n",
       "      <th>Female</th>\n",
       "      <th>Male</th>\n",
       "      <th>Female</th>\n",
       "      <th>Male</th>\n",
       "      <th>Female</th>\n",
       "      <th>Male</th>\n",
       "    </tr>\n",
       "    <tr>\n",
       "      <th>MVU</th>\n",
       "      <th></th>\n",
       "      <th></th>\n",
       "      <th></th>\n",
       "      <th></th>\n",
       "      <th></th>\n",
       "      <th></th>\n",
       "    </tr>\n",
       "  </thead>\n",
       "  <tbody>\n",
       "    <tr>\n",
       "      <th>119-1</th>\n",
       "      <td>48.0</td>\n",
       "      <td>51.5</td>\n",
       "      <td>160.80</td>\n",
       "      <td>173.05</td>\n",
       "      <td>29.30</td>\n",
       "      <td>25.60</td>\n",
       "    </tr>\n",
       "    <tr>\n",
       "      <th>119-2</th>\n",
       "      <td>59.0</td>\n",
       "      <td>60.0</td>\n",
       "      <td>159.10</td>\n",
       "      <td>172.85</td>\n",
       "      <td>27.50</td>\n",
       "      <td>26.30</td>\n",
       "    </tr>\n",
       "    <tr>\n",
       "      <th>120-1</th>\n",
       "      <td>40.0</td>\n",
       "      <td>38.0</td>\n",
       "      <td>155.25</td>\n",
       "      <td>169.50</td>\n",
       "      <td>30.85</td>\n",
       "      <td>29.30</td>\n",
       "    </tr>\n",
       "    <tr>\n",
       "      <th>120-2</th>\n",
       "      <td>43.5</td>\n",
       "      <td>45.0</td>\n",
       "      <td>159.20</td>\n",
       "      <td>171.90</td>\n",
       "      <td>26.40</td>\n",
       "      <td>26.90</td>\n",
       "    </tr>\n",
       "    <tr>\n",
       "      <th>121-1</th>\n",
       "      <td>41.5</td>\n",
       "      <td>48.5</td>\n",
       "      <td>157.30</td>\n",
       "      <td>172.10</td>\n",
       "      <td>29.10</td>\n",
       "      <td>29.20</td>\n",
       "    </tr>\n",
       "    <tr>\n",
       "      <th>121-2</th>\n",
       "      <td>41.0</td>\n",
       "      <td>41.0</td>\n",
       "      <td>159.10</td>\n",
       "      <td>175.70</td>\n",
       "      <td>24.50</td>\n",
       "      <td>26.10</td>\n",
       "    </tr>\n",
       "    <tr>\n",
       "      <th>122-1</th>\n",
       "      <td>41.0</td>\n",
       "      <td>43.0</td>\n",
       "      <td>160.95</td>\n",
       "      <td>174.60</td>\n",
       "      <td>27.75</td>\n",
       "      <td>28.00</td>\n",
       "    </tr>\n",
       "    <tr>\n",
       "      <th>122-2</th>\n",
       "      <td>47.5</td>\n",
       "      <td>44.0</td>\n",
       "      <td>156.95</td>\n",
       "      <td>170.60</td>\n",
       "      <td>25.35</td>\n",
       "      <td>25.20</td>\n",
       "    </tr>\n",
       "    <tr>\n",
       "      <th>123-1</th>\n",
       "      <td>45.0</td>\n",
       "      <td>49.5</td>\n",
       "      <td>161.95</td>\n",
       "      <td>174.30</td>\n",
       "      <td>29.50</td>\n",
       "      <td>28.40</td>\n",
       "    </tr>\n",
       "    <tr>\n",
       "      <th>123-2</th>\n",
       "      <td>45.5</td>\n",
       "      <td>53.0</td>\n",
       "      <td>160.80</td>\n",
       "      <td>174.20</td>\n",
       "      <td>29.05</td>\n",
       "      <td>28.20</td>\n",
       "    </tr>\n",
       "    <tr>\n",
       "      <th>124-1</th>\n",
       "      <td>54.0</td>\n",
       "      <td>56.0</td>\n",
       "      <td>158.55</td>\n",
       "      <td>172.20</td>\n",
       "      <td>28.60</td>\n",
       "      <td>27.90</td>\n",
       "    </tr>\n",
       "    <tr>\n",
       "      <th>124-2</th>\n",
       "      <td>40.0</td>\n",
       "      <td>45.0</td>\n",
       "      <td>163.30</td>\n",
       "      <td>174.40</td>\n",
       "      <td>25.50</td>\n",
       "      <td>26.60</td>\n",
       "    </tr>\n",
       "    <tr>\n",
       "      <th>125-1</th>\n",
       "      <td>54.0</td>\n",
       "      <td>60.0</td>\n",
       "      <td>161.40</td>\n",
       "      <td>174.20</td>\n",
       "      <td>29.50</td>\n",
       "      <td>29.20</td>\n",
       "    </tr>\n",
       "    <tr>\n",
       "      <th>125-2</th>\n",
       "      <td>54.0</td>\n",
       "      <td>51.0</td>\n",
       "      <td>159.75</td>\n",
       "      <td>174.10</td>\n",
       "      <td>27.00</td>\n",
       "      <td>27.70</td>\n",
       "    </tr>\n",
       "    <tr>\n",
       "      <th>126-1</th>\n",
       "      <td>42.5</td>\n",
       "      <td>49.5</td>\n",
       "      <td>160.95</td>\n",
       "      <td>175.60</td>\n",
       "      <td>29.85</td>\n",
       "      <td>28.20</td>\n",
       "    </tr>\n",
       "    <tr>\n",
       "      <th>126-2</th>\n",
       "      <td>46.0</td>\n",
       "      <td>47.0</td>\n",
       "      <td>160.45</td>\n",
       "      <td>175.50</td>\n",
       "      <td>28.80</td>\n",
       "      <td>27.90</td>\n",
       "    </tr>\n",
       "    <tr>\n",
       "      <th>127-1</th>\n",
       "      <td>50.0</td>\n",
       "      <td>54.0</td>\n",
       "      <td>157.80</td>\n",
       "      <td>171.55</td>\n",
       "      <td>31.90</td>\n",
       "      <td>30.00</td>\n",
       "    </tr>\n",
       "    <tr>\n",
       "      <th>127-2</th>\n",
       "      <td>54.0</td>\n",
       "      <td>57.0</td>\n",
       "      <td>158.90</td>\n",
       "      <td>172.95</td>\n",
       "      <td>29.90</td>\n",
       "      <td>29.50</td>\n",
       "    </tr>\n",
       "    <tr>\n",
       "      <th>128-1</th>\n",
       "      <td>60.0</td>\n",
       "      <td>59.0</td>\n",
       "      <td>155.75</td>\n",
       "      <td>169.25</td>\n",
       "      <td>31.15</td>\n",
       "      <td>30.55</td>\n",
       "    </tr>\n",
       "    <tr>\n",
       "      <th>128-2</th>\n",
       "      <td>46.0</td>\n",
       "      <td>46.0</td>\n",
       "      <td>159.50</td>\n",
       "      <td>172.90</td>\n",
       "      <td>25.85</td>\n",
       "      <td>26.70</td>\n",
       "    </tr>\n",
       "    <tr>\n",
       "      <th>129-1</th>\n",
       "      <td>44.0</td>\n",
       "      <td>43.0</td>\n",
       "      <td>156.60</td>\n",
       "      <td>170.65</td>\n",
       "      <td>27.90</td>\n",
       "      <td>26.80</td>\n",
       "    </tr>\n",
       "    <tr>\n",
       "      <th>129-2</th>\n",
       "      <td>41.0</td>\n",
       "      <td>43.5</td>\n",
       "      <td>161.00</td>\n",
       "      <td>173.45</td>\n",
       "      <td>29.10</td>\n",
       "      <td>27.85</td>\n",
       "    </tr>\n",
       "    <tr>\n",
       "      <th>130-1</th>\n",
       "      <td>45.0</td>\n",
       "      <td>50.0</td>\n",
       "      <td>161.80</td>\n",
       "      <td>177.20</td>\n",
       "      <td>28.60</td>\n",
       "      <td>29.10</td>\n",
       "    </tr>\n",
       "    <tr>\n",
       "      <th>130-2</th>\n",
       "      <td>51.5</td>\n",
       "      <td>53.0</td>\n",
       "      <td>159.85</td>\n",
       "      <td>175.70</td>\n",
       "      <td>30.20</td>\n",
       "      <td>27.45</td>\n",
       "    </tr>\n",
       "    <tr>\n",
       "      <th>131-1</th>\n",
       "      <td>55.0</td>\n",
       "      <td>54.0</td>\n",
       "      <td>162.35</td>\n",
       "      <td>175.60</td>\n",
       "      <td>28.80</td>\n",
       "      <td>26.95</td>\n",
       "    </tr>\n",
       "    <tr>\n",
       "      <th>131-2</th>\n",
       "      <td>45.0</td>\n",
       "      <td>45.5</td>\n",
       "      <td>161.55</td>\n",
       "      <td>174.90</td>\n",
       "      <td>31.50</td>\n",
       "      <td>28.15</td>\n",
       "    </tr>\n",
       "    <tr>\n",
       "      <th>132-1</th>\n",
       "      <td>38.0</td>\n",
       "      <td>40.0</td>\n",
       "      <td>162.50</td>\n",
       "      <td>172.80</td>\n",
       "      <td>28.90</td>\n",
       "      <td>27.40</td>\n",
       "    </tr>\n",
       "    <tr>\n",
       "      <th>132-2</th>\n",
       "      <td>51.5</td>\n",
       "      <td>48.0</td>\n",
       "      <td>158.95</td>\n",
       "      <td>172.65</td>\n",
       "      <td>28.90</td>\n",
       "      <td>27.90</td>\n",
       "    </tr>\n",
       "    <tr>\n",
       "      <th>133-1</th>\n",
       "      <td>45.0</td>\n",
       "      <td>43.0</td>\n",
       "      <td>158.20</td>\n",
       "      <td>171.75</td>\n",
       "      <td>27.60</td>\n",
       "      <td>26.40</td>\n",
       "    </tr>\n",
       "    <tr>\n",
       "      <th>133-2</th>\n",
       "      <td>46.0</td>\n",
       "      <td>49.5</td>\n",
       "      <td>157.90</td>\n",
       "      <td>170.65</td>\n",
       "      <td>27.50</td>\n",
       "      <td>26.65</td>\n",
       "    </tr>\n",
       "  </tbody>\n",
       "</table>\n",
       "</div>"
      ],
      "text/plain": [
       "0.5       RIDAGEYR         BMXHT         BMXBMI       \n",
       "RIAGENDRx   Female  Male  Female    Male Female   Male\n",
       "MVU                                                   \n",
       "119-1         48.0  51.5  160.80  173.05  29.30  25.60\n",
       "119-2         59.0  60.0  159.10  172.85  27.50  26.30\n",
       "120-1         40.0  38.0  155.25  169.50  30.85  29.30\n",
       "120-2         43.5  45.0  159.20  171.90  26.40  26.90\n",
       "121-1         41.5  48.5  157.30  172.10  29.10  29.20\n",
       "121-2         41.0  41.0  159.10  175.70  24.50  26.10\n",
       "122-1         41.0  43.0  160.95  174.60  27.75  28.00\n",
       "122-2         47.5  44.0  156.95  170.60  25.35  25.20\n",
       "123-1         45.0  49.5  161.95  174.30  29.50  28.40\n",
       "123-2         45.5  53.0  160.80  174.20  29.05  28.20\n",
       "124-1         54.0  56.0  158.55  172.20  28.60  27.90\n",
       "124-2         40.0  45.0  163.30  174.40  25.50  26.60\n",
       "125-1         54.0  60.0  161.40  174.20  29.50  29.20\n",
       "125-2         54.0  51.0  159.75  174.10  27.00  27.70\n",
       "126-1         42.5  49.5  160.95  175.60  29.85  28.20\n",
       "126-2         46.0  47.0  160.45  175.50  28.80  27.90\n",
       "127-1         50.0  54.0  157.80  171.55  31.90  30.00\n",
       "127-2         54.0  57.0  158.90  172.95  29.90  29.50\n",
       "128-1         60.0  59.0  155.75  169.25  31.15  30.55\n",
       "128-2         46.0  46.0  159.50  172.90  25.85  26.70\n",
       "129-1         44.0  43.0  156.60  170.65  27.90  26.80\n",
       "129-2         41.0  43.5  161.00  173.45  29.10  27.85\n",
       "130-1         45.0  50.0  161.80  177.20  28.60  29.10\n",
       "130-2         51.5  53.0  159.85  175.70  30.20  27.45\n",
       "131-1         55.0  54.0  162.35  175.60  28.80  26.95\n",
       "131-2         45.0  45.5  161.55  174.90  31.50  28.15\n",
       "132-1         38.0  40.0  162.50  172.80  28.90  27.40\n",
       "132-2         51.5  48.0  158.95  172.65  28.90  27.90\n",
       "133-1         45.0  43.0  158.20  171.75  27.60  26.40\n",
       "133-2         46.0  49.5  157.90  170.65  27.50  26.65"
      ]
     },
     "execution_count": 222,
     "metadata": {},
     "output_type": "execute_result"
    }
   ],
   "source": [
    "da4_analysis_iqr = da4.groupby([\"MVU\",\"RIAGENDRx\"])[\"RIDAGEYR\",\"BMXHT\",\"BMXBMI\"].quantile().unstack()\n",
    "da4_analysis_iqr"
   ]
  },
  {
   "cell_type": "markdown",
   "metadata": {},
   "source": [
    "__Q6c.__ Comment on the extent to which the IQR for age, height, and BMI vary among the MVUs."
   ]
  },
  {
   "cell_type": "raw",
   "metadata": {},
   "source": []
  }
 ],
 "metadata": {
  "kernelspec": {
   "display_name": "Python 3",
   "language": "python",
   "name": "python3"
  },
  "language_info": {
   "codemirror_mode": {
    "name": "ipython",
    "version": 3
   },
   "file_extension": ".py",
   "mimetype": "text/x-python",
   "name": "python",
   "nbconvert_exporter": "python",
   "pygments_lexer": "ipython3",
   "version": "3.6.3"
  }
 },
 "nbformat": 4,
 "nbformat_minor": 2
}
